{
  "nbformat": 4,
  "nbformat_minor": 0,
  "metadata": {
    "colab": {
      "provenance": []
    },
    "kernelspec": {
      "name": "python3",
      "display_name": "Python 3"
    },
    "language_info": {
      "name": "python"
    }
  },
  "cells": [
    {
      "cell_type": "markdown",
      "source": [
        "# **Python Basics**"
      ],
      "metadata": {
        "id": "2e-UEkHz_buM"
      }
    },
    {
      "cell_type": "markdown",
      "source": [
        "**1. What is Python, and why is it popular?**"
      ],
      "metadata": {
        "id": "qIjmV3o6_kur"
      }
    },
    {
      "cell_type": "markdown",
      "source": [
        "**Ans :** Python is a widely-used programming language known for its simplicity and readability, making it an ideal choice for both beginners and experienced developers. It supports multiple programming paradigms, including procedural, object-oriented, and functional programming, offering flexibility in problem-solving. Python boasts a large, active community of developers, an extensive standard library, and a vast ecosystem of third-party packages, enabling rapid development across a wide range of domains.\n"
      ],
      "metadata": {
        "id": "KdhTcsNPAhxy"
      }
    },
    {
      "cell_type": "markdown",
      "source": [
        "**2. What is an interpreter in Python?**"
      ],
      "metadata": {
        "id": "dwvEiZGSBH9a"
      }
    },
    {
      "cell_type": "markdown",
      "source": [
        "**Ans :** An interpreter in Python is a program that executes Python code line-by-line. Unlike a compiler, which translates the entire code into machine code before execution, an interpreter processes the code directly, converting it into bytecode and executing it on the fly. This makes Python highly interactive, as you can run and test code in real-time."
      ],
      "metadata": {
        "id": "EstvopU6CJC1"
      }
    },
    {
      "cell_type": "markdown",
      "source": [
        "**3. What are pre-defined keywords in Python?**"
      ],
      "metadata": {
        "id": "g0Vgd3PTEaAg"
      }
    },
    {
      "cell_type": "markdown",
      "source": [
        "**Ans :** Keywords in Python are reserved words that have specific meanings in the language's syntax and cannot be used as identifiers (such as variable names or function names). **Examples include if, else, while, for, def, class, import, try, except, return, True, False, None, and more.**\n",
        "\n",
        "Keywords are case-sensitive and cannot be redefined or overridden within a Python program, ensuring they retain their intended function in the language."
      ],
      "metadata": {
        "id": "1PU3vRhuEY-6"
      }
    },
    {
      "cell_type": "markdown",
      "source": [
        "**4. Can keywords be used as variable names?**"
      ],
      "metadata": {
        "id": "fFADwQRpGRq2"
      }
    },
    {
      "cell_type": "markdown",
      "source": [
        "**Ans :** No, keywords cannot be used as variable names in Python. Since keywords have predefined meanings and are essential to the syntax of the language, they are reserved and cannot be redefined or used for any other purpose, including as variable names, function names, or class names."
      ],
      "metadata": {
        "id": "F-3O1SSGHf1t"
      }
    },
    {
      "cell_type": "markdown",
      "source": [
        "**5. What is mutability in Python?**"
      ],
      "metadata": {
        "id": "5IqHaCTRHlGH"
      }
    },
    {
      "cell_type": "markdown",
      "source": [
        "**Ans :** In Python, objects can be classified as either mutable (modifiable) or immutable (unchangeable). Mutable objects, like lists and dictionaries, can be modified after creation, allowing their contents to be changed. In contrast, immutable objects, such as tuples and strings, cannot be altered once created.\n",
        "\n",
        "Mutability influences how objects are stored and managed in memory, impacting performance, memory usage, and concurrency in Python programs. Mutable objects tend to use more memory because they can be modified in place, while immutable objects are often more memory-efficient and thread-safe, as they cannot be changed after creation.\n"
      ],
      "metadata": {
        "id": "L1aygDAOIj8T"
      }
    },
    {
      "cell_type": "markdown",
      "source": [
        "**6. Why are lists mutable, but tuples are immutable?**"
      ],
      "metadata": {
        "id": "l-AFssyrMJzb"
      }
    },
    {
      "cell_type": "markdown",
      "source": [
        "**Ans :** Lists are mutable because they are designed to be flexible and allow changes, like adding or removing elements. Tuples are immutable because they are meant to represent fixed, unchangeable collections of data, providing benefits like memory efficiency, safety, and being hashable."
      ],
      "metadata": {
        "id": "t22es4MeMJOs"
      }
    },
    {
      "cell_type": "markdown",
      "source": [
        "**7. What is the difference between “==” and “is” operators in Python?**"
      ],
      "metadata": {
        "id": "WCJg5lbaMorp"
      }
    },
    {
      "cell_type": "markdown",
      "source": [
        "Ans : **In Python:**\n",
        "\n",
        "**\"==\"**  checks if values of two objects are equal.\n",
        "\n",
        "**\"is\"**  checks if two objects are the same object in memory (i.e., they have the same identity)."
      ],
      "metadata": {
        "id": "EwGy_LNOMqKm"
      }
    },
    {
      "cell_type": "markdown",
      "source": [
        "**8. What are logical operators in Python?**\n"
      ],
      "metadata": {
        "id": "yaBh7S3MNLkr"
      }
    },
    {
      "cell_type": "markdown",
      "source": [
        "**Ans :** In Python, logical operators are used to combine conditional statements and evaluate their truth values. They return a Boolean value (True or False):\n",
        "\n",
        "**\"and\"** Returns True if both conditions are true.\n",
        "\n",
        "**\"or\"** Returns True if at least one condition is true.\n",
        "\n",
        "**\"not\"** Reverses the Boolean value of the condition (i.e., True becomes False and vice versa)."
      ],
      "metadata": {
        "id": "jjGM8fM8NTqJ"
      }
    },
    {
      "cell_type": "markdown",
      "source": [
        "**9. What is type casting in Python?**\n"
      ],
      "metadata": {
        "id": "FDpnAouWTgDG"
      }
    },
    {
      "cell_type": "markdown",
      "source": [
        "**Ans :** Type casting in Python is the process of converting one data type to another. Type casting is often necessary for performing **arithmetic operations**, **data manipulation**, and **input/output operations** in Python programs.\n",
        "\n",
        "It is done using built-in functions like:\n",
        "\n",
        "**int():** Converts to an integer.\n",
        "\n",
        "**float():** Converts to a float.\n",
        "\n",
        "**str():** Converts to a string.\n",
        "\n",
        "**list():** Converts to a list.\n",
        "\n",
        "**tuple():** Converts to a tuple.\n",
        "\n",
        "\n",
        "\n",
        "\n"
      ],
      "metadata": {
        "id": "HmiVyCiMTpgk"
      }
    },
    {
      "cell_type": "markdown",
      "source": [
        "**10. What is the difference between implicit and explicit type casting?**"
      ],
      "metadata": {
        "id": "OuESk4D4VehJ"
      }
    },
    {
      "cell_type": "markdown",
      "source": [
        "**Ans :**\n",
        "\n",
        "**Implicit Type Casting:** Python automatically converts a smaller data type to a larger one (e.g., int to float).\n",
        "\n",
        "**Explicit Type Casting:** The programmer manually converts a data type using functions like int(), float(), str(), etc."
      ],
      "metadata": {
        "id": "ckPu_zmdVoaC"
      }
    },
    {
      "cell_type": "markdown",
      "source": [
        "**11. What is the purpose of conditional statements in Python?**"
      ],
      "metadata": {
        "id": "k1RX4ckZXLVd"
      }
    },
    {
      "cell_type": "markdown",
      "source": [
        "**Ans :** Conditionals in Python are used to execute code based on the evaluation of conditions. Python provides if, elif (else if), and else statements to control the flow of execution. These conditionals can be nested to handle multiple conditions and manage different execution paths based on logical expressions."
      ],
      "metadata": {
        "id": "D5E0Ej3UYFEy"
      }
    },
    {
      "cell_type": "markdown",
      "source": [
        "**12. How does the elif statement work?**"
      ],
      "metadata": {
        "id": "Zn2jHK2FaRuB"
      }
    },
    {
      "cell_type": "markdown",
      "source": [
        "**Ans :** The elif statement in Python allows you to check multiple conditions after an if statement. If the if condition is False, Python checks the elif conditions one by one. If an elif condition is True, its block of code is executed. If none are True, the else block (if present) is executed."
      ],
      "metadata": {
        "id": "hS2gM_nxacVq"
      }
    },
    {
      "cell_type": "markdown",
      "source": [
        "**13. What is the difference between for and while loops?**\n"
      ],
      "metadata": {
        "id": "DYvLoNqTbXE5"
      }
    },
    {
      "cell_type": "markdown",
      "source": [
        "**Ans :** **for loop:** Iterates over a sequence (like a list or range) for a fixed number of times.\n",
        "\n",
        "**while loop:** Repeats as long as a condition is True, with the number of iterations depending on the condition."
      ],
      "metadata": {
        "id": "BXpWgmPDb07L"
      }
    },
    {
      "cell_type": "markdown",
      "source": [
        "**14. Describe a scenario where a while loop is more suitable than a for loop.**\n"
      ],
      "metadata": {
        "id": "CdAP6ichb-ZX"
      }
    },
    {
      "cell_type": "markdown",
      "source": [
        "**Ans :** A while loop is more suitable when the number of iterations is unknown and depends on a dynamic condition that might change during the loop's execution.\n",
        "\n",
        "Scenario:\n",
        "Suppose We are building a program that asks a user for input until they enter a valid response."
      ],
      "metadata": {
        "id": "4Lt5e5YFcIfN"
      }
    },
    {
      "cell_type": "code",
      "source": [
        "user_input = \"\"\n",
        "while user_input != \"yes\":\n",
        "    user_input = input(\"Do you want to continue? (yes/no): \")\n",
        "print(\"Thank you for confirming!\")"
      ],
      "metadata": {
        "colab": {
          "base_uri": "https://localhost:8080/"
        },
        "id": "zb7zrRCleYxZ",
        "outputId": "c4dd819b-1561-4df5-f4b5-a866c382c92b"
      },
      "execution_count": null,
      "outputs": [
        {
          "output_type": "stream",
          "name": "stdout",
          "text": [
            "Do you want to continue? (yes/no): no\n",
            "Do you want to continue? (yes/no): yes\n",
            "Thank you for confirming!\n"
          ]
        }
      ]
    },
    {
      "cell_type": "markdown",
      "source": [
        "In this case, the while loop is ideal because you don't know how many times the user will need to be prompted. The loop will keep running until the condition (user_input == \"yes\") is met, making it a good fit for scenarios with variable conditions."
      ],
      "metadata": {
        "id": "awd8dCwdc9RL"
      }
    },
    {
      "cell_type": "markdown",
      "source": [
        "# **Practical Questions**"
      ],
      "metadata": {
        "id": "pyaDticMemWn"
      }
    },
    {
      "cell_type": "markdown",
      "source": [
        "**1. Write a Python program to print \"Hello, World!\"**"
      ],
      "metadata": {
        "id": "hF1vnIdrexRz"
      }
    },
    {
      "cell_type": "code",
      "source": [
        "# This line prints \"Hello, World!\" to the console\n",
        "print(\"Hello, World!\")"
      ],
      "metadata": {
        "colab": {
          "base_uri": "https://localhost:8080/"
        },
        "id": "lIHspI3sfM-Y",
        "outputId": "52697ddc-2131-47d3-b391-309127411905"
      },
      "execution_count": null,
      "outputs": [
        {
          "output_type": "stream",
          "name": "stdout",
          "text": [
            "Hello, World!\n"
          ]
        }
      ]
    },
    {
      "cell_type": "markdown",
      "source": [
        "**2. Write a Python program that displays your name and age.**\n"
      ],
      "metadata": {
        "id": "-ZFZItCWfUAG"
      }
    },
    {
      "cell_type": "code",
      "source": [
        "# Assigning the name to the variable 'name'\n",
        "name = \"Vikram Sharma\"\n",
        "\n",
        "# Assigning the age to the variable 'age'\n",
        "age = 25\n",
        "\n",
        "# Printing the name variable\n",
        "print(\"Name:\", name)\n",
        "\n",
        "# Printing the age variable\n",
        "print(\"Age:\", age)\n"
      ],
      "metadata": {
        "colab": {
          "base_uri": "https://localhost:8080/"
        },
        "id": "rPklUaByfdXS",
        "outputId": "f1cf36e2-2503-4b63-a8f9-15a1c14935af"
      },
      "execution_count": null,
      "outputs": [
        {
          "output_type": "stream",
          "name": "stdout",
          "text": [
            "Name: Vikram Sharma\n",
            "Age: 25\n"
          ]
        }
      ]
    },
    {
      "cell_type": "markdown",
      "source": [
        "**3. Write code to print all the pre-defined keywords in Python using the keyword library.**"
      ],
      "metadata": {
        "id": "vPiNqCDMf0CR"
      }
    },
    {
      "cell_type": "code",
      "source": [
        "# Importing the 'keyword' module to access Python's list of reserved keywords\n",
        "import keyword\n",
        "\n",
        "# Looping through each keyword in the list of Python keywords (keyword.kwlist)\n",
        "for keyword in keyword.kwlist:\n",
        "    # Printing each keyword on a new line\n",
        "    print(keyword)\n"
      ],
      "metadata": {
        "colab": {
          "base_uri": "https://localhost:8080/"
        },
        "id": "FA9-3xr6f525",
        "outputId": "72d64086-352b-4f53-a250-5e23da8fcc6b"
      },
      "execution_count": null,
      "outputs": [
        {
          "output_type": "stream",
          "name": "stdout",
          "text": [
            "False\n",
            "None\n",
            "True\n",
            "and\n",
            "as\n",
            "assert\n",
            "async\n",
            "await\n",
            "break\n",
            "class\n",
            "continue\n",
            "def\n",
            "del\n",
            "elif\n",
            "else\n",
            "except\n",
            "finally\n",
            "for\n",
            "from\n",
            "global\n",
            "if\n",
            "import\n",
            "in\n",
            "is\n",
            "lambda\n",
            "nonlocal\n",
            "not\n",
            "or\n",
            "pass\n",
            "raise\n",
            "return\n",
            "try\n",
            "while\n",
            "with\n",
            "yield\n"
          ]
        }
      ]
    },
    {
      "cell_type": "markdown",
      "source": [
        "**4. Write a program that checks if a given word is a Python keyword.**\n"
      ],
      "metadata": {
        "id": "ThPucqWJgpBQ"
      }
    },
    {
      "cell_type": "code",
      "source": [
        "import keyword  # Importing the keyword module to check for Python keywords\n",
        "\n",
        "# Input from the user\n",
        "word = input(\"Enter a word to check if it's a Python keyword: \")\n",
        "\n",
        "# Checking if the given word is a Python keyword\n",
        "if keyword.iskeyword(word):\n",
        "    print(\"is a Python keyword.\")\n",
        "else:\n",
        "    print(\"is not a Python keyword.\")"
      ],
      "metadata": {
        "colab": {
          "base_uri": "https://localhost:8080/"
        },
        "id": "sqqYWYAyie27",
        "outputId": "f66fdea1-deab-4633-e82f-a7cd111fb79e"
      },
      "execution_count": null,
      "outputs": [
        {
          "output_type": "stream",
          "name": "stdout",
          "text": [
            "Enter a word to check if it's a Python keyword: and\n",
            "is a Python keyword.\n"
          ]
        }
      ]
    },
    {
      "cell_type": "markdown",
      "source": [
        "**5. Create a list and tuple in Python, and demonstrate how attempting to change an element works differently\n",
        "for each.**"
      ],
      "metadata": {
        "id": "W-NkomLGiny6"
      }
    },
    {
      "cell_type": "code",
      "source": [
        "# Creating a list\n",
        "my_list = [1, 2, 3, 4]\n",
        "print(\"Original List:\", my_list)\n",
        "\n",
        "# Attempting to change an element in the list\n",
        "my_list[0] = \"Vikram\"  # Lists are mutable, so this will work\n",
        "print(\"List after modification:\", my_list)\n",
        "\n",
        "# Creating a tuple\n",
        "my_tuple = (1, 2, 3, 4)\n",
        "print(\"My tuple :\",my_tuple)\n",
        "\n",
        "# Attempting to change an element in the tuple\n",
        "my_tuple[0] = 10\n",
        "\n",
        "# Tuples are immutable, so trying to modify an element will cause an error\n"
      ],
      "metadata": {
        "colab": {
          "base_uri": "https://localhost:8080/",
          "height": 272
        },
        "id": "xM4zbaRQjti9",
        "outputId": "6d1b9b92-b67c-49f5-e43e-63ac5854ebb5"
      },
      "execution_count": null,
      "outputs": [
        {
          "output_type": "stream",
          "name": "stdout",
          "text": [
            "Original List: [1, 2, 3, 4]\n",
            "List after modification: ['Vikram', 2, 3, 4]\n",
            "My tuple : (1, 2, 3, 4)\n"
          ]
        },
        {
          "output_type": "error",
          "ename": "TypeError",
          "evalue": "'tuple' object does not support item assignment",
          "traceback": [
            "\u001b[0;31m---------------------------------------------------------------------------\u001b[0m",
            "\u001b[0;31mTypeError\u001b[0m                                 Traceback (most recent call last)",
            "\u001b[0;32m<ipython-input-106-93b928e94b32>\u001b[0m in \u001b[0;36m<cell line: 0>\u001b[0;34m()\u001b[0m\n\u001b[1;32m     10\u001b[0m \u001b[0mmy_tuple\u001b[0m \u001b[0;34m=\u001b[0m \u001b[0;34m(\u001b[0m\u001b[0;36m1\u001b[0m\u001b[0;34m,\u001b[0m \u001b[0;36m2\u001b[0m\u001b[0;34m,\u001b[0m \u001b[0;36m3\u001b[0m\u001b[0;34m,\u001b[0m \u001b[0;36m4\u001b[0m\u001b[0;34m)\u001b[0m\u001b[0;34m\u001b[0m\u001b[0;34m\u001b[0m\u001b[0m\n\u001b[1;32m     11\u001b[0m \u001b[0mprint\u001b[0m\u001b[0;34m(\u001b[0m\u001b[0;34m\"My tuple :\"\u001b[0m\u001b[0;34m,\u001b[0m\u001b[0mmy_tuple\u001b[0m\u001b[0;34m)\u001b[0m\u001b[0;34m\u001b[0m\u001b[0;34m\u001b[0m\u001b[0m\n\u001b[0;32m---> 12\u001b[0;31m \u001b[0mmy_tuple\u001b[0m\u001b[0;34m[\u001b[0m\u001b[0;36m0\u001b[0m\u001b[0;34m]\u001b[0m \u001b[0;34m=\u001b[0m \u001b[0;36m10\u001b[0m\u001b[0;34m\u001b[0m\u001b[0;34m\u001b[0m\u001b[0m\n\u001b[0m\u001b[1;32m     13\u001b[0m \u001b[0;34m\u001b[0m\u001b[0m\n\u001b[1;32m     14\u001b[0m \u001b[0;31m# Attempting to change an element in the tuple\u001b[0m\u001b[0;34m\u001b[0m\u001b[0;34m\u001b[0m\u001b[0m\n",
            "\u001b[0;31mTypeError\u001b[0m: 'tuple' object does not support item assignment"
          ]
        }
      ]
    },
    {
      "cell_type": "markdown",
      "source": [
        "**6. Write a function to demonstrate the behavior of mutable and immutable arguments & 7 are same question.**\n"
      ],
      "metadata": {
        "id": "t6NN-VSjmdB_"
      }
    },
    {
      "cell_type": "code",
      "source": [
        "# Mutable arguments (list) & Immutable arguments strings\n",
        "\n",
        "my_list = [1, 2, 3]  # A mutable argument (list)\n",
        "my_string = \"Vikram\"  # An immutable argument (string)\n",
        "\n",
        "# Before modification\n",
        "print(\"Before mutable argument:\", my_list)\n",
        "\n",
        "# Modify mutable argument (list)\n",
        "my_list.append(4)  # Adds 4 to the list\n",
        "print(\"After mutable argument:\", my_list)\n",
        "\n",
        "  # Before modification\n",
        "print(\"\\n Before Immutable argument:\", my_string)\n",
        "\n",
        "# Modify immutable argument (string)\n",
        "\n",
        "# Since strings are immutable, we can't modify the original string.\n",
        "\n",
        "my_string.append(\"sharma\")  # Adds sharma to the string"
      ],
      "metadata": {
        "colab": {
          "base_uri": "https://localhost:8080/",
          "height": 254
        },
        "id": "EPx92Rr-v5ru",
        "outputId": "d2d451d0-4e72-4f99-ba6c-a0fc9dc6bb0b"
      },
      "execution_count": null,
      "outputs": [
        {
          "output_type": "stream",
          "name": "stdout",
          "text": [
            "Before mutable argument: [1, 2, 3]\n",
            "After mutable argument: [1, 2, 3, 4]\n",
            "\n",
            " Before Immutable argument: Vikram\n"
          ]
        },
        {
          "output_type": "error",
          "ename": "AttributeError",
          "evalue": "'str' object has no attribute 'append'",
          "traceback": [
            "\u001b[0;31m---------------------------------------------------------------------------\u001b[0m",
            "\u001b[0;31mAttributeError\u001b[0m                            Traceback (most recent call last)",
            "\u001b[0;32m<ipython-input-168-21bea6d33f36>\u001b[0m in \u001b[0;36m<cell line: 0>\u001b[0;34m()\u001b[0m\n\u001b[1;32m     18\u001b[0m \u001b[0;31m# Since strings are immutable, we can't modify the original string.\u001b[0m\u001b[0;34m\u001b[0m\u001b[0;34m\u001b[0m\u001b[0m\n\u001b[1;32m     19\u001b[0m \u001b[0;34m\u001b[0m\u001b[0m\n\u001b[0;32m---> 20\u001b[0;31m \u001b[0mmy_string\u001b[0m\u001b[0;34m.\u001b[0m\u001b[0mappend\u001b[0m\u001b[0;34m(\u001b[0m\u001b[0;34m\"sharma\"\u001b[0m\u001b[0;34m)\u001b[0m  \u001b[0;31m# Adds sharma to the string\u001b[0m\u001b[0;34m\u001b[0m\u001b[0;34m\u001b[0m\u001b[0m\n\u001b[0m",
            "\u001b[0;31mAttributeError\u001b[0m: 'str' object has no attribute 'append'"
          ]
        }
      ]
    },
    {
      "cell_type": "markdown",
      "source": [
        "**8. Write a program to demonstrate the use of logical operators.**\n"
      ],
      "metadata": {
        "id": "ZyC4zOENHoEu"
      }
    },
    {
      "cell_type": "code",
      "source": [
        "# Variables for demonstration\n",
        "a = 5\n",
        "b = 10\n",
        "c = 15\n",
        "\n",
        "# Using 'and' logical operator\n",
        "print(\"a > 3 and b < 15:\", a > 3 and b < 15)  # Both conditions must be True\n",
        "\n",
        "# Using 'or' logical operator\n",
        "print(\"a < 3 or c > 10:\", a < 3 or c > 10)  # Only one condition needs to be True\n",
        "\n",
        "# Using 'not' logical operator\n",
        "print(\"not (a == b):\", not (a == b))  # Negates the condition\n"
      ],
      "metadata": {
        "colab": {
          "base_uri": "https://localhost:8080/"
        },
        "id": "Ylp_YKrtHwDH",
        "outputId": "d6234e30-2bff-48dc-ba45-2f9e05f911bd"
      },
      "execution_count": null,
      "outputs": [
        {
          "output_type": "stream",
          "name": "stdout",
          "text": [
            "a > 3 and b < 15: True\n",
            "a < 3 or c > 10: True\n",
            "not (a == b): True\n"
          ]
        }
      ]
    },
    {
      "cell_type": "markdown",
      "source": [
        "**9. Write a Python program to convert user input from string to integer, float, and boolean types.**"
      ],
      "metadata": {
        "id": "G5-6qZ1kJXl4"
      }
    },
    {
      "cell_type": "code",
      "source": [
        "# Get user input\n",
        "\n",
        "user_input = input(\"Enter a value: \")\n",
        "\n",
        "# Convert string to integer\n",
        "\n",
        "user_input_int = int(user_input)\n",
        "print(\"Converted to Integer:\", user_input_int)\n",
        "print(type(user_input_int))\n",
        "\n",
        "# Convert String to float\n",
        "\n",
        "user_input_float = float(user_input)\n",
        "print(\"Converted to Float:\", user_input_float)\n",
        "print(type(user_input_float))\n",
        "\n",
        "# Convert String to boolean\n",
        "\n",
        "user_input_bool = bool(user_input)\n",
        "print(\"Converted to Boolean:\", user_input_bool)\n",
        "print(type(user_input_bool))"
      ],
      "metadata": {
        "colab": {
          "base_uri": "https://localhost:8080/"
        },
        "id": "wwbcw3TTunYu",
        "outputId": "54803588-1eeb-4f22-97ef-90d8232d284f"
      },
      "execution_count": null,
      "outputs": [
        {
          "output_type": "stream",
          "name": "stdout",
          "text": [
            "Enter a value: 5\n",
            "Converted to Integer: 5\n",
            "<class 'int'>\n",
            "Converted to Float: 5.0\n",
            "<class 'float'>\n",
            "Converted to Boolean: True\n",
            "<class 'bool'>\n"
          ]
        }
      ]
    },
    {
      "cell_type": "markdown",
      "source": [
        "**10. Write code to demonstrate type casting with list elements.**\n",
        "\n"
      ],
      "metadata": {
        "id": "lJ93aIcCLwuv"
      }
    },
    {
      "cell_type": "code",
      "source": [
        "my_list = [\"10\",\"20\",\"30\",\"40\"]\n",
        "\n",
        "#Convert string elements to integers\n",
        "\n",
        "int_list = [int(element) for element in my_list]\n",
        "\n",
        "print(\"Original List:\", my_list)\n",
        "print(\"\\nInteger List:\", int_list)\n",
        "\n",
        "#Convert string elements to floats\n",
        "\n",
        "float_list = [float(element) for element in my_list]\n",
        "print(\"Float List:\", float_list)\n",
        "\n",
        "#Convert string elements to booleans '0' as False and other strings as True)\n",
        "\n",
        "bool_list = [bool(element) for element in my_list]\n",
        "print(\"Boolean List:\", bool_list)\n"
      ],
      "metadata": {
        "colab": {
          "base_uri": "https://localhost:8080/"
        },
        "id": "dJUoVlOzYUFr",
        "outputId": "70671f2f-1d58-47e6-c11e-af39fbc619e7"
      },
      "execution_count": null,
      "outputs": [
        {
          "output_type": "stream",
          "name": "stdout",
          "text": [
            "Original List: ['10', '20', '30', '40']\n",
            "\n",
            "Integer List: [10, 20, 30, 40]\n",
            "Float List: [10.0, 20.0, 30.0, 40.0]\n",
            "Boolean List: [True, True, True, True]\n"
          ]
        }
      ]
    },
    {
      "cell_type": "markdown",
      "source": [
        "**11. Write a program that checks if a number is positive, negative, or zero.**\n"
      ],
      "metadata": {
        "id": "4C6EFWBidKkq"
      }
    },
    {
      "cell_type": "code",
      "source": [
        "# Input from the user\n",
        "number = int(input(\"Enter a number: \"))\n",
        "\n",
        "# Check if the number is positive, negative, or zero\n",
        "if number > 0:\n",
        "    print(\"The number is positive.\")\n",
        "elif number < 0:\n",
        "    print(\"The number is negative.\")\n",
        "else:\n",
        "    print(\"The number is zero.\")"
      ],
      "metadata": {
        "colab": {
          "base_uri": "https://localhost:8080/"
        },
        "id": "xps85OPJhljA",
        "outputId": "69afe848-60be-4692-e881-fb9b9e6c7766"
      },
      "execution_count": null,
      "outputs": [
        {
          "output_type": "stream",
          "name": "stdout",
          "text": [
            "Enter a number: -1\n",
            "The number is negative.\n"
          ]
        }
      ]
    },
    {
      "cell_type": "markdown",
      "source": [
        "**12. Write a for loop to print numbers from 1 to 10.**\n"
      ],
      "metadata": {
        "id": "oe2Yi3bbdPEa"
      }
    },
    {
      "cell_type": "code",
      "source": [
        "# For loop to print numbers from 1 to 10\n",
        "for i in range(1, 11):\n",
        "    print(i)"
      ],
      "metadata": {
        "colab": {
          "base_uri": "https://localhost:8080/"
        },
        "id": "O9zNs_8R2-EU",
        "outputId": "623e74f9-cb71-40fc-ff88-0c28b73e9e7c"
      },
      "execution_count": null,
      "outputs": [
        {
          "output_type": "stream",
          "name": "stdout",
          "text": [
            "1\n",
            "2\n",
            "3\n",
            "4\n",
            "5\n",
            "6\n",
            "7\n",
            "8\n",
            "9\n",
            "10\n"
          ]
        }
      ]
    },
    {
      "cell_type": "markdown",
      "source": [
        "**13. Write a Python program to find the sum of all even numbers between 1 and 50.**\n"
      ],
      "metadata": {
        "id": "2djifxiddW8C"
      }
    },
    {
      "cell_type": "code",
      "source": [
        "# Program to find the sum of all even numbers between 1 and 50\n",
        "even_sum = 0\n",
        "\n",
        "# Loop through numbers from 1 to 50\n",
        "for i in range(1, 51):\n",
        "    if i % 2 == 0:  # Check if the number is even\n",
        "        even_sum += i\n",
        "\n",
        "# Print the result\n",
        "print(\"The sum of all even numbers between 1 and 50 is:\", even_sum)"
      ],
      "metadata": {
        "colab": {
          "base_uri": "https://localhost:8080/"
        },
        "id": "5IZtisPT3Njq",
        "outputId": "eabe407a-8d11-4445-be2c-16be6ce48a78"
      },
      "execution_count": null,
      "outputs": [
        {
          "output_type": "stream",
          "name": "stdout",
          "text": [
            "The sum of all even numbers between 1 and 50 is: 650\n"
          ]
        }
      ]
    },
    {
      "cell_type": "markdown",
      "source": [
        "**14. Write a program to reverse a string using a while loop.**\n"
      ],
      "metadata": {
        "id": "_3u46hnHdfpQ"
      }
    },
    {
      "cell_type": "code",
      "source": [
        "# Input string from the user\n",
        "input_string = input(\"Enter a string: \")\n",
        "\n",
        "# Initialize an empty string to store the reversed string\n",
        "reversed_str = \"\"\n",
        "index = len(input_string) - 1  # Start from the last index of the string\n",
        "\n",
        "# Use a while loop to traverse the string backwards\n",
        "while index >= 0:\n",
        "    reversed_str += input_string[index]  # Add the current character to the reversed string\n",
        "    index -= 1  # Move to the previous character\n",
        "\n",
        "# Print the reversed string\n",
        "print(\"Reversed string:\", reversed_str)\n"
      ],
      "metadata": {
        "colab": {
          "base_uri": "https://localhost:8080/"
        },
        "id": "Xz4Vgs3rgDfk",
        "outputId": "5133b7b2-8eee-49a8-a2ea-2707fc43ac66"
      },
      "execution_count": null,
      "outputs": [
        {
          "output_type": "stream",
          "name": "stdout",
          "text": [
            "Enter a string: Vikram\n",
            "Reversed string: markiV\n"
          ]
        }
      ]
    },
    {
      "cell_type": "markdown",
      "source": [
        "**15. Write a Python program to calculate the factorial of a number provided by the user using a while loop.**\n"
      ],
      "metadata": {
        "id": "KFpV1xnKdklK"
      }
    },
    {
      "cell_type": "code",
      "source": [
        "# Input from the user\n",
        "number = int(input(\"Enter a number to calculate its factorial: \"))\n",
        "\n",
        "# Check if the number is negative, as factorials for negative numbers are not defined\n",
        "if number < 0:\n",
        "    print(\"Factorial is not defined for negative numbers.\")\n",
        "else:\n",
        "    # Initialize factorial variable\n",
        "    factorial = 1\n",
        "\n",
        "    # Calculate factorial using a while loop\n",
        "    while number > 1:\n",
        "        factorial *= number  # Multiply the current value of factorial by number\n",
        "        number -= 1  # Decrease number by 1\n",
        "\n",
        "    # Display the result\n",
        "    print(\"The factorial is\", factorial)"
      ],
      "metadata": {
        "colab": {
          "base_uri": "https://localhost:8080/"
        },
        "id": "NF257vY23lFl",
        "outputId": "4b43ab61-fb3f-4292-a2a1-01c73e189ae3"
      },
      "execution_count": null,
      "outputs": [
        {
          "output_type": "stream",
          "name": "stdout",
          "text": [
            "Enter a number to calculate its factorial: 7\n",
            "The factorial is 5040\n"
          ]
        }
      ]
    }
  ]
}