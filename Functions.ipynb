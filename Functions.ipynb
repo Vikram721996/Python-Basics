{
  "nbformat": 4,
  "nbformat_minor": 0,
  "metadata": {
    "colab": {
      "provenance": []
    },
    "kernelspec": {
      "name": "python3",
      "display_name": "Python 3"
    },
    "language_info": {
      "name": "python"
    }
  },
  "cells": [
    {
      "cell_type": "markdown",
      "source": [
        "# **Functions**"
      ],
      "metadata": {
        "id": "asfkiL_fGX7K"
      }
    },
    {
      "cell_type": "markdown",
      "source": [
        "# **Theory Questions:**\n",
        "\n"
      ],
      "metadata": {
        "id": "7BE00gj3GgVY"
      }
    },
    {
      "cell_type": "markdown",
      "source": [
        "**Note: For each theory Question, give at least one example.**"
      ],
      "metadata": {
        "id": "Wygv3dqvGpLP"
      }
    },
    {
      "cell_type": "markdown",
      "source": [
        "**1. What is the difference between a function and a method in Python?**"
      ],
      "metadata": {
        "id": "WbXgvbUKGudh"
      }
    },
    {
      "cell_type": "markdown",
      "source": [
        "**ANS:**  \n",
        "**Function:** A function is a block of reusable code that is independent and can be called anywhere.\n",
        "\n",
        "**Method:** A method is a function that belongs to a class and operates on its objects."
      ],
      "metadata": {
        "id": "9wvrfqFcTisz"
      }
    },
    {
      "cell_type": "code",
      "source": [
        "# This is the example of Function which returns \"Hello\"\n",
        "def hello():\n",
        "  return \"Hello Vikram\"\n",
        "\n",
        "# This is the example of Method\n",
        "class person:\n",
        "  def say_hello(self):\n",
        "    return \"Hello Vikram\"\n",
        "\n",
        "person_instance = person() #object of class\n",
        "person_instance.say_hello()"
      ],
      "metadata": {
        "colab": {
          "base_uri": "https://localhost:8080/",
          "height": 36
        },
        "id": "kkFtJhkZfkHx",
        "outputId": "6eac3e15-d051-48f9-e369-421becd47807"
      },
      "execution_count": null,
      "outputs": [
        {
          "output_type": "execute_result",
          "data": {
            "text/plain": [
              "'Hello Vikram'"
            ],
            "application/vnd.google.colaboratory.intrinsic+json": {
              "type": "string"
            }
          },
          "metadata": {},
          "execution_count": 30
        }
      ]
    },
    {
      "cell_type": "markdown",
      "source": [
        "**2. Explain the concept of function arguments and parameters in Python.**"
      ],
      "metadata": {
        "id": "f7h8Ung9G0lJ"
      }
    },
    {
      "cell_type": "markdown",
      "source": [
        "**ANS:**\n",
        "**Parameters:** Variables listed inside the parentheses when defining a function.\n",
        "\n",
        "**Arguments:** The actual values passed to the function when calling it.\n",
        "\n"
      ],
      "metadata": {
        "id": "sekylQm1deO8"
      }
    },
    {
      "cell_type": "code",
      "source": [
        "# Function with parameters\n",
        "def add_numbers(a, b):\n",
        "    return a + b\n",
        "\n",
        "# Calling the function with arguments\n",
        "add_numbers(5, 7)"
      ],
      "metadata": {
        "id": "iLb1Ljk0G-OC",
        "colab": {
          "base_uri": "https://localhost:8080/"
        },
        "outputId": "e1cd33ea-596e-4335-cdd2-03b7413e65d9"
      },
      "execution_count": null,
      "outputs": [
        {
          "output_type": "execute_result",
          "data": {
            "text/plain": [
              "12"
            ]
          },
          "metadata": {},
          "execution_count": 32
        }
      ]
    },
    {
      "cell_type": "markdown",
      "source": [
        "**3. What are the different ways to define and call a function in Python?**"
      ],
      "metadata": {
        "id": "hs3UuYQwemR9"
      }
    },
    {
      "cell_type": "markdown",
      "source": [
        "**ANS:** In Python, a function is a reusable block of code that performs a specific task. It is defined using the **def** keyword and can be called to execute the task."
      ],
      "metadata": {
        "id": "AbkAb_IXidvM"
      }
    },
    {
      "cell_type": "code",
      "source": [
        "#  Using def (Stadard Function Definition)\n",
        "\n",
        "def greet(name):\n",
        "  return \"Hello \" + name\n",
        "\n",
        "greet(\"Vikram\")"
      ],
      "metadata": {
        "colab": {
          "base_uri": "https://localhost:8080/",
          "height": 36
        },
        "id": "h9hRPH_cbe7w",
        "outputId": "195ae660-ec3c-41f3-b923-0b8b55950692"
      },
      "execution_count": 1,
      "outputs": [
        {
          "output_type": "execute_result",
          "data": {
            "text/plain": [
              "'Hello Vikram'"
            ],
            "application/vnd.google.colaboratory.intrinsic+json": {
              "type": "string"
            }
          },
          "metadata": {},
          "execution_count": 1
        }
      ]
    },
    {
      "cell_type": "code",
      "source": [
        "# Using lambda (Anonymous Fuction)\n",
        "\n",
        "Square = lambda x: x ** 2\n",
        "Square(5)"
      ],
      "metadata": {
        "colab": {
          "base_uri": "https://localhost:8080/"
        },
        "id": "TDOrjP-GbvTq",
        "outputId": "16faa3f7-bae3-4942-b968-97085ecfb6f2"
      },
      "execution_count": 2,
      "outputs": [
        {
          "output_type": "execute_result",
          "data": {
            "text/plain": [
              "25"
            ]
          },
          "metadata": {},
          "execution_count": 2
        }
      ]
    },
    {
      "cell_type": "code",
      "source": [
        "# Passing Functions as an arguments (Higher-Order Function)\n",
        "\n",
        "def apply (func,value):\n",
        "  return func(value)\n",
        "\n",
        "print(apply(lambda x: x * 3,10))\n"
      ],
      "metadata": {
        "colab": {
          "base_uri": "https://localhost:8080/"
        },
        "id": "QdsNlJRvcJNI",
        "outputId": "029ab790-dff9-4aa2-807a-f05e8de9cbfe"
      },
      "execution_count": 9,
      "outputs": [
        {
          "output_type": "stream",
          "name": "stdout",
          "text": [
            "30\n"
          ]
        }
      ]
    },
    {
      "cell_type": "code",
      "source": [
        "# Using yield (Generator Function)\n",
        "\n",
        "def count_up_to_three():\n",
        "    yield 1\n",
        "    yield 2\n",
        "    yield 3\n",
        "\n",
        "# Creating a generator object\n",
        "counter = count_up_to_three()\n",
        "\n",
        "# Iterating through the generator\n",
        "for num in counter:\n",
        "    print(num)"
      ],
      "metadata": {
        "colab": {
          "base_uri": "https://localhost:8080/"
        },
        "id": "anAXEtTtc34-",
        "outputId": "02dbe9ff-c22f-4f8b-8024-b71f39a84f6f"
      },
      "execution_count": 10,
      "outputs": [
        {
          "output_type": "stream",
          "name": "stdout",
          "text": [
            "1\n",
            "2\n",
            "3\n"
          ]
        }
      ]
    },
    {
      "cell_type": "markdown",
      "source": [
        "**4. What is the purpose of the `return` statement in a Python function?**"
      ],
      "metadata": {
        "id": "el8twAikG_HV"
      }
    },
    {
      "cell_type": "markdown",
      "source": [
        "**ANS:** The **return** statement in Python is used inside a function to send a value back to the caller. It stops the function execution and returns the specified result."
      ],
      "metadata": {
        "id": "kAY0RDS4mJYL"
      }
    },
    {
      "cell_type": "code",
      "source": [
        "# This is the example of return statement.\n",
        "\n",
        "def add_numbers(a, b):\n",
        "    return a * b\n",
        "\n",
        "result = add_numbers(5, 7)\n",
        "print(result)"
      ],
      "metadata": {
        "id": "DtdSh9fhHEic",
        "colab": {
          "base_uri": "https://localhost:8080/"
        },
        "outputId": "cf1ae763-4ec1-4498-b51b-3a0df68e0c12"
      },
      "execution_count": null,
      "outputs": [
        {
          "output_type": "stream",
          "name": "stdout",
          "text": [
            "35\n"
          ]
        }
      ]
    },
    {
      "cell_type": "markdown",
      "source": [
        "**5. What are iterators in Python and how do they differ from iterables?**"
      ],
      "metadata": {
        "id": "xA3LQMSYHF0v"
      }
    },
    {
      "cell_type": "markdown",
      "source": [
        "**ANS:** **Iterator -** An object in Python that allows traversal through elements one at a time using the next() function. It remembers where it left off.\n",
        "\n",
        "**Iterable:** An object that contains multiple values (like lists, tuples, strings) but does not track position. It can be converted into an iterator using iter().\n",
        "\n"
      ],
      "metadata": {
        "id": "DzGT601Hm70l"
      }
    },
    {
      "cell_type": "code",
      "source": [
        "# This is the example of iterable (List)\n",
        "number = [1,2,3] # List is in an iterable\n",
        "\n",
        "number_iterator = iter(number) #Making an iterator\n",
        "\n",
        "print(next(number_iterator))\n",
        "print(next(number_iterator))\n",
        "print(next(number_iterator))"
      ],
      "metadata": {
        "id": "i2Vx5KO2HKU_",
        "colab": {
          "base_uri": "https://localhost:8080/"
        },
        "outputId": "39cb0a5d-a011-4db8-a86c-f0e427b5d36e"
      },
      "execution_count": null,
      "outputs": [
        {
          "output_type": "stream",
          "name": "stdout",
          "text": [
            "1\n",
            "2\n",
            "3\n"
          ]
        }
      ]
    },
    {
      "cell_type": "markdown",
      "source": [
        "**6. Explain the concept of generators in Python and how they are defined.**"
      ],
      "metadata": {
        "id": "CJiZ79WIHLdq"
      }
    },
    {
      "cell_type": "markdown",
      "source": [
        "**ANS:** A generator in Python is a special type of function that returns an iterator and generates values on the fly using the **yield** keyword. It is memory efficient as it does not store all values in memory at once."
      ],
      "metadata": {
        "id": "38PZbiZ5rJwy"
      }
    },
    {
      "cell_type": "code",
      "source": [
        "# Defining the generator function\n",
        "def count_up_to_three():\n",
        "    yield 1\n",
        "    yield 2\n",
        "    yield 3\n",
        "\n",
        "# Creating a generator object\n",
        "counter = count_up_to_three()\n",
        "\n",
        "# Iterating through the generator\n",
        "for num in counter:\n",
        "    print(num)"
      ],
      "metadata": {
        "id": "LHjTYEmPHPka",
        "colab": {
          "base_uri": "https://localhost:8080/"
        },
        "outputId": "cf935e99-0588-4103-d9db-89e208fb7ac3"
      },
      "execution_count": null,
      "outputs": [
        {
          "output_type": "stream",
          "name": "stdout",
          "text": [
            "1\n",
            "2\n",
            "3\n"
          ]
        }
      ]
    },
    {
      "cell_type": "markdown",
      "source": [
        "**7. What are the advantages of using generators over regular functions?**"
      ],
      "metadata": {
        "id": "U6Qh8rZoHP9I"
      }
    },
    {
      "cell_type": "markdown",
      "source": [
        "**ANS:** Generators are special functions in Python that use the **yield** keyword to generate values one at a time instead of returning all at once. They are memory-efficient and faster than regular functions for large datasets."
      ],
      "metadata": {
        "id": "7EyqJ5NwsLe1"
      }
    },
    {
      "cell_type": "code",
      "source": [
        "# Using Generator over regular functions\n",
        "def generate_squares(n):\n",
        "  # Yield squares of numbers from 0 to n-1.\n",
        "  for i in range(n):\n",
        "    yield i * i\n",
        "\n",
        "# Create a generator object\n",
        "squares = generate_squares(5)\n",
        "\n",
        "# Iterate through the generator\n",
        "for square in squares:\n",
        "  print(square)"
      ],
      "metadata": {
        "id": "CZS92O8OHWn8",
        "colab": {
          "base_uri": "https://localhost:8080/"
        },
        "outputId": "56064a8d-135a-4c08-aa31-3c1861263404"
      },
      "execution_count": null,
      "outputs": [
        {
          "output_type": "stream",
          "name": "stdout",
          "text": [
            "0\n",
            "1\n",
            "4\n",
            "9\n",
            "16\n"
          ]
        }
      ]
    },
    {
      "cell_type": "markdown",
      "source": [
        "**8. What is a lambda function in Python and when is it typically used?**"
      ],
      "metadata": {
        "id": "5XOVrZ5ZHXPy"
      }
    },
    {
      "cell_type": "markdown",
      "source": [
        "**ANS:** A lambda function in Python is a small, anonymous function defined using the lambda keyword. It can take any number of arguments but can only have one expression, which is evaluated and returned."
      ],
      "metadata": {
        "id": "jp5UIf8BXqj6"
      }
    },
    {
      "cell_type": "code",
      "source": [
        "# Using lambda functiion\n",
        "\n",
        "# Lambda function to add two numbers\n",
        "\n",
        "add_numbers = lambda x, y: x + y\n",
        "\n",
        "# Calling the lambda function\n",
        "result = add_numbers(5, 7)\n",
        "print(result)"
      ],
      "metadata": {
        "id": "oWFQPdOPHajw",
        "colab": {
          "base_uri": "https://localhost:8080/"
        },
        "outputId": "4c8e521b-1845-46be-c52b-362f33ac41e7"
      },
      "execution_count": 11,
      "outputs": [
        {
          "output_type": "stream",
          "name": "stdout",
          "text": [
            "12\n"
          ]
        }
      ]
    },
    {
      "cell_type": "markdown",
      "source": [
        "**9. Explain the purpose and usage of the `map()` function in Python.**"
      ],
      "metadata": {
        "id": "B2RzvgxHHbCO"
      }
    },
    {
      "cell_type": "markdown",
      "source": [
        "**ANS:** The map() function in Python is used to apply a function to each item in an iterable (like a list, tuple, or set) and returns a map object (which is an iterator)."
      ],
      "metadata": {
        "id": "jeRHyxbfeCIw"
      }
    },
    {
      "cell_type": "code",
      "source": [
        "# Using map() function\n",
        "\n",
        "numbers = [1,2,3,4,5]\n",
        "doubled_numbers = map(lambda x: x * 2, numbers)\n",
        "print(list(doubled_numbers))\n"
      ],
      "metadata": {
        "id": "zgT93_D5HfEA",
        "colab": {
          "base_uri": "https://localhost:8080/"
        },
        "outputId": "9e1063f0-3237-4986-bda6-da12bc9048eb"
      },
      "execution_count": 12,
      "outputs": [
        {
          "output_type": "stream",
          "name": "stdout",
          "text": [
            "[2, 4, 6, 8, 10]\n"
          ]
        }
      ]
    },
    {
      "cell_type": "markdown",
      "source": [
        "**10. What is the difference between `map()`, `reduce()`, and `filter()` functions in Python?**"
      ],
      "metadata": {
        "id": "aQhjzsOwHfg8"
      }
    },
    {
      "cell_type": "markdown",
      "source": [
        "**ANS: map (function, iterable)** Applies a function to each element in an iterable and returns a new iterable.\n",
        "\n",
        "**reduce(function, iterable)** Applies a function cumulatively to reduce an iterable to a single value (requires functools).\n",
        "\n",
        "**filter(function, iterable)** Filters elements based on a condition and returns a new iterable."
      ],
      "metadata": {
        "id": "W1O5eOTNe8jz"
      }
    },
    {
      "cell_type": "code",
      "source": [
        "# Using map() fuction\n",
        "\n",
        "numbers = [1,2,3,4,5]\n",
        "doubled_numbers = map(lambda x: x * 2, numbers)\n",
        "print(list(doubled_numbers))"
      ],
      "metadata": {
        "id": "GfdsbAOMHkWS",
        "colab": {
          "base_uri": "https://localhost:8080/"
        },
        "outputId": "35208365-bce6-4b8f-b5bf-b5393c1be75b"
      },
      "execution_count": 13,
      "outputs": [
        {
          "output_type": "stream",
          "name": "stdout",
          "text": [
            "[2, 4, 6, 8, 10]\n"
          ]
        }
      ]
    },
    {
      "cell_type": "code",
      "source": [
        "# Using filter() function\n",
        "\n",
        "numbers = [1,2,3,4,5]\n",
        "even_numbers = filter(lambda x: x % 2 == 0, numbers)\n",
        "print(list(even_numbers))"
      ],
      "metadata": {
        "colab": {
          "base_uri": "https://localhost:8080/"
        },
        "id": "TnUh8KRRgF8z",
        "outputId": "0d108630-f21f-47f7-f3c5-64a3dbe91c0a"
      },
      "execution_count": 14,
      "outputs": [
        {
          "output_type": "stream",
          "name": "stdout",
          "text": [
            "[2, 4]\n"
          ]
        }
      ]
    },
    {
      "cell_type": "code",
      "source": [
        "# Using reduce function\n",
        "\n",
        "from functools import reduce\n",
        "\n",
        "numbers = [1,2,3,4,5]\n",
        "sum_of_numbers = reduce(lambda x, y: x + y, numbers)\n",
        "print(sum_of_numbers)"
      ],
      "metadata": {
        "colab": {
          "base_uri": "https://localhost:8080/"
        },
        "id": "C3FWsn_rgYCI",
        "outputId": "77d1732c-a9ea-4ad5-f405-75e87dc2fbf8"
      },
      "execution_count": 15,
      "outputs": [
        {
          "output_type": "stream",
          "name": "stdout",
          "text": [
            "15\n"
          ]
        }
      ]
    },
    {
      "cell_type": "markdown",
      "source": [
        "**11. Using pen & Paper write the internal mechanism for sum operation using  reduce function on this given\n",
        "list:[47,11,42,13];**\n",
        "\n",
        "\n",
        " **(Attach paper image for this answer) in doc or colab notebook.**"
      ],
      "metadata": {
        "id": "8ElPxhloIXtY"
      }
    },
    {
      "cell_type": "markdown",
      "source": [
        "![WhatsApp Image 2025-04-04 at 9.53.25 PM.jpeg](data:image/jpeg;base64,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)"
      ],
      "metadata": {
        "id": "YVT_Aeanngea"
      }
    },
    {
      "cell_type": "markdown",
      "source": [
        "# **Practical Questions:**"
      ],
      "metadata": {
        "id": "uh-5A0tcIqzc"
      }
    },
    {
      "cell_type": "markdown",
      "source": [
        "**1. Write a Python function that takes a list of numbers as input and returns the sum of all even numbers in\n",
        "the list.**"
      ],
      "metadata": {
        "id": "v7Xy_aq2IwcX"
      }
    },
    {
      "cell_type": "code",
      "source": [
        "# simple function that takes a list of numbers as input and returns the sum of all even numbers:\n",
        "\n",
        "def sum_of_evens(numbers):\n",
        "    return sum(filter(lambda x: x % 2 == 0, numbers))\n",
        "\n",
        "# Example usage\n",
        "nums = [1, 2, 3, 4, 5, 6, 7, 8]\n",
        "result = sum_of_evens(nums)\n",
        "print(result)"
      ],
      "metadata": {
        "colab": {
          "base_uri": "https://localhost:8080/"
        },
        "id": "bVexsJ2HpTel",
        "outputId": "cfec4386-0f28-43a7-cabd-1c31e0e7a589"
      },
      "execution_count": 42,
      "outputs": [
        {
          "output_type": "stream",
          "name": "stdout",
          "text": [
            "20\n"
          ]
        }
      ]
    },
    {
      "cell_type": "markdown",
      "source": [
        "**2. Create a Python function that accepts a string and returns the reverse of that string.**"
      ],
      "metadata": {
        "id": "hFKUPHRWI2HW"
      }
    },
    {
      "cell_type": "code",
      "source": [
        "# Using simple function to reverse a string\n",
        "\n",
        "def reverse_string(s):\n",
        "    return s[::-1]\n",
        "\n",
        "# Example usage\n",
        "text = \"Vikram\"\n",
        "result = reverse_string(text)\n",
        "print(result)"
      ],
      "metadata": {
        "id": "13nrIAL8I5xK",
        "colab": {
          "base_uri": "https://localhost:8080/"
        },
        "outputId": "24f41e7b-507b-4d26-eecc-cd21dd1a2fd5"
      },
      "execution_count": 46,
      "outputs": [
        {
          "output_type": "stream",
          "name": "stdout",
          "text": [
            "markiV\n"
          ]
        }
      ]
    },
    {
      "cell_type": "markdown",
      "source": [
        "**3. Implement a Python function that takes a list of integers and returns a new list containing the squares of\n",
        "each number.**"
      ],
      "metadata": {
        "id": "xNPpgihQI6OE"
      }
    },
    {
      "cell_type": "code",
      "source": [
        "# Python function to square each number in a list\n",
        "\n",
        "def square_numbers(numbers):\n",
        "    return [x ** 2 for x in numbers]\n",
        "\n",
        "# Example usage\n",
        "nums = [1, 2, 3, 4, 5]\n",
        "result = square_numbers(nums)\n",
        "print(result)  # Output: [1, 4, 9, 16, 25]"
      ],
      "metadata": {
        "id": "h4MwKksXI9QE",
        "colab": {
          "base_uri": "https://localhost:8080/"
        },
        "outputId": "13399813-6a59-4f08-cc34-35a6db78d7ef"
      },
      "execution_count": 47,
      "outputs": [
        {
          "output_type": "stream",
          "name": "stdout",
          "text": [
            "[1, 4, 9, 16, 25]\n"
          ]
        }
      ]
    },
    {
      "cell_type": "markdown",
      "source": [
        "**4. Write a Python function that checks if a given number is prime or not from 1 to 200.**"
      ],
      "metadata": {
        "id": "0nTROt3cI9qI"
      }
    },
    {
      "cell_type": "code",
      "source": [
        "# Python function to check if a number is prime (1 to 200)\n",
        "\n",
        "def is_prime(n):\n",
        "    if n < 2:\n",
        "        return False\n",
        "    for i in range(2, int(n ** 0.5) + 1):\n",
        "        if n % i == 0:\n",
        "            return False\n",
        "    return True\n",
        "\n",
        "# Checking prime numbers from 1 to 200\n",
        "primes = [num for num in range(1, 201) if is_prime(num)]\n",
        "print(primes)"
      ],
      "metadata": {
        "id": "RTUCiw39JAl3",
        "colab": {
          "base_uri": "https://localhost:8080/"
        },
        "outputId": "45df0590-5f34-4a6a-c436-9653cc4d6c1e"
      },
      "execution_count": 49,
      "outputs": [
        {
          "output_type": "stream",
          "name": "stdout",
          "text": [
            "[2, 3, 5, 7, 11, 13, 17, 19, 23, 29, 31, 37, 41, 43, 47, 53, 59, 61, 67, 71, 73, 79, 83, 89, 97, 101, 103, 107, 109, 113, 127, 131, 137, 139, 149, 151, 157, 163, 167, 173, 179, 181, 191, 193, 197, 199]\n"
          ]
        }
      ]
    },
    {
      "cell_type": "markdown",
      "source": [
        "**5. Create an iterator class in Python that generates the Fibonacci sequence up to a specified number of\n",
        "terms.**"
      ],
      "metadata": {
        "id": "PRBiKsN-JEeU"
      }
    },
    {
      "cell_type": "code",
      "source": [
        "# Python iterator class for fibonacci squence\n",
        "\n",
        "class FibonacciIterator:\n",
        "    def __init__(self, n_terms):\n",
        "        self.n_terms = n_terms\n",
        "        self.a, self.b = 0, 1\n",
        "        self.count = 0\n",
        "\n",
        "    def __iter__(self):\n",
        "        return self\n",
        "\n",
        "    def __next__(self):\n",
        "        if self.count >= self.n_terms:\n",
        "            raise StopIteration\n",
        "        result = self.a\n",
        "        self.a, self.b = self.b, self.a + self.b\n",
        "        self.count += 1\n",
        "        return result\n",
        "\n",
        "# Example usage\n",
        "fib = FibonacciIterator(10)\n",
        "print(list(fib))"
      ],
      "metadata": {
        "id": "MAf16ksOJIBV",
        "colab": {
          "base_uri": "https://localhost:8080/"
        },
        "outputId": "b5c5f887-d72f-46df-c779-6e8d7e180faa"
      },
      "execution_count": 50,
      "outputs": [
        {
          "output_type": "stream",
          "name": "stdout",
          "text": [
            "[0, 1, 1, 2, 3, 5, 8, 13, 21, 34]\n"
          ]
        }
      ]
    },
    {
      "cell_type": "markdown",
      "source": [
        "**6. Write a generator function in Python that yields the powers of 2 up to a given exponent.**"
      ],
      "metadata": {
        "id": "TVYVmQ0aJKqq"
      }
    },
    {
      "cell_type": "code",
      "source": [
        "# Python Generator for powers of 2\n",
        "\n",
        "def powers_of_two(exponent):\n",
        "    for i in range(exponent + 1):\n",
        "        yield 2 ** i\n",
        "\n",
        "# Example usage\n",
        "for power in powers_of_two(5):\n",
        "    print(power)"
      ],
      "metadata": {
        "id": "oK7hhSIdJMtn",
        "colab": {
          "base_uri": "https://localhost:8080/"
        },
        "outputId": "b6828850-9c6c-4eb0-c831-f8f24da13e81"
      },
      "execution_count": 52,
      "outputs": [
        {
          "output_type": "stream",
          "name": "stdout",
          "text": [
            "1\n",
            "2\n",
            "4\n",
            "8\n",
            "16\n",
            "32\n"
          ]
        }
      ]
    },
    {
      "cell_type": "markdown",
      "source": [
        "**7. Implement a generator function that reads a file line by line and yields each line as a string.**"
      ],
      "metadata": {
        "id": "YtzwzP98JXik"
      }
    },
    {
      "cell_type": "code",
      "source": [
        "# Python generator to read a file line by line\n",
        "\n",
        "def read_file_line_by_line(filename):\n",
        "    with open(filename, 'r') as file:\n",
        "        for line in file:\n",
        "            yield line.strip()  # Remove trailing newline characters\n",
        "\n",
        "# Example usage\n",
        "for line in read_file_line_by_line(\"example.txt\"):\n",
        "    print(line)"
      ],
      "metadata": {
        "id": "I2YuQ0-GJbdk",
        "colab": {
          "base_uri": "https://localhost:8080/"
        },
        "outputId": "89f4bf7c-25a5-4d96-b5ac-028412a6b78d"
      },
      "execution_count": 63,
      "outputs": [
        {
          "output_type": "stream",
          "name": "stdout",
          "text": [
            "Hello, World!\n",
            "Python is great.\n",
            "Generators are useful.\n",
            "This is an example file.\n"
          ]
        }
      ]
    },
    {
      "cell_type": "markdown",
      "source": [
        "**8. Use a lambda function in Python to sort a list of tuples based on the second element of each tuple.**"
      ],
      "metadata": {
        "id": "WyFVFnLxJb3H"
      }
    },
    {
      "cell_type": "code",
      "source": [
        "# Using a lambda function to sort a list of tuples based on the second element of each tuple:\n",
        "\n",
        "data = [(1, 5), (3, 1), (2, 8), (4, 2)]\n",
        "\n",
        "# Sort by the second element of each tuple\n",
        "sorted_data = sorted(data, key=lambda x: x[1])\n",
        "\n",
        "print(sorted_data)"
      ],
      "metadata": {
        "id": "mNfxToohJfvg",
        "colab": {
          "base_uri": "https://localhost:8080/"
        },
        "outputId": "56d7ebd2-d7a6-4249-806c-a99a8c523d20"
      },
      "execution_count": 64,
      "outputs": [
        {
          "output_type": "stream",
          "name": "stdout",
          "text": [
            "[(3, 1), (4, 2), (1, 5), (2, 8)]\n"
          ]
        }
      ]
    },
    {
      "cell_type": "markdown",
      "source": [
        "**9. Write a Python program that uses `map()` to convert a list of temperatures from Celsius to Fahrenheit.**"
      ],
      "metadata": {
        "id": "k2NX4jLMJg1F"
      }
    },
    {
      "cell_type": "code",
      "source": [
        "# List of temperatures in Celsius\n",
        "celsius = [0, 20, 37, 100]\n",
        "\n",
        "# Convert to Fahrenheit using map and lambda\n",
        "fahrenheit = list(map(lambda c: (c * 9/5) + 32, celsius))\n",
        "\n",
        "print(fahrenheit)"
      ],
      "metadata": {
        "id": "jb8ZMiiuJlZg",
        "colab": {
          "base_uri": "https://localhost:8080/"
        },
        "outputId": "1e845984-f37e-4bef-c3a6-bbcf367d7074"
      },
      "execution_count": 65,
      "outputs": [
        {
          "output_type": "stream",
          "name": "stdout",
          "text": [
            "[32.0, 68.0, 98.6, 212.0]\n"
          ]
        }
      ]
    },
    {
      "cell_type": "markdown",
      "source": [
        "**10. Create a Python program that uses `filter()` to remove all the vowels from a given string.**"
      ],
      "metadata": {
        "id": "wE73U6f6JnI9"
      }
    },
    {
      "cell_type": "code",
      "source": [
        "# using filter() to remove all the vowels from a given string:\n",
        "\n",
        "def remove_vowels(text):\n",
        "    vowels = 'aeiouAEIOU'\n",
        "    return ''.join(filter(lambda x: x not in vowels, text))\n",
        "\n",
        "# Example usage\n",
        "input_string = \"Hello, World!\"\n",
        "result = remove_vowels(input_string)\n",
        "print(result)"
      ],
      "metadata": {
        "id": "IjtR82mHJqIU",
        "colab": {
          "base_uri": "https://localhost:8080/"
        },
        "outputId": "278be291-a82f-44f8-85bc-44afc5b52269"
      },
      "execution_count": 66,
      "outputs": [
        {
          "output_type": "stream",
          "name": "stdout",
          "text": [
            "Hll, Wrld!\n"
          ]
        }
      ]
    },
    {
      "cell_type": "markdown",
      "source": [
        "**11) Imagine an accounting routine used in a book shop. It works on a list with sublists, which look like this:**\n",
        "\n",
        "**Write a Python program, which returns a list with 2-tuples. Each tuple consists of the order number and the\n",
        "product of the price per item and the quantity. The product should be increased by 10,- € if the value of the\n",
        "order is smaller than 100,00 €.**\n",
        "\n",
        "**Write a Python program using lambda and map.**"
      ],
      "metadata": {
        "id": "2-4S0RdXJrOI"
      }
    },
    {
      "cell_type": "code",
      "source": [
        "# Using lambda and map() to calculate the final cost of each order in a bookshop\n",
        "\n",
        "orders = [\n",
        "    [1, \"Book A\", 2, 20.00],\n",
        "    [2, \"Book B\", 5, 15.00],\n",
        "    [3, \"Book C\", 1, 120.00],\n",
        "    [4, \"Book D\", 3, 10.00]\n",
        "]\n",
        "\n",
        "# Use lambda and map to calculate total per orde\n",
        "result = list(map(lambda order: (\n",
        "    order[0],\n",
        "    order[2] * order[3] + (10 if order[2] * order[3] < 100 else 0)\n",
        "), orders))\n",
        "\n",
        "print(result)"
      ],
      "metadata": {
        "colab": {
          "base_uri": "https://localhost:8080/"
        },
        "id": "wtlGhtAvyYbL",
        "outputId": "95c6a0ec-864b-4552-8d2d-1c7aeab5adb2"
      },
      "execution_count": 67,
      "outputs": [
        {
          "output_type": "stream",
          "name": "stdout",
          "text": [
            "[(1, 50.0), (2, 85.0), (3, 120.0), (4, 40.0)]\n"
          ]
        }
      ]
    }
  ]
}