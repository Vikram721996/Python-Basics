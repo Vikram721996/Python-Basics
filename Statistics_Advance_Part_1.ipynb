{
  "nbformat": 4,
  "nbformat_minor": 0,
  "metadata": {
    "colab": {
      "provenance": []
    },
    "kernelspec": {
      "name": "python3",
      "display_name": "Python 3"
    },
    "language_info": {
      "name": "python"
    }
  },
  "cells": [
    {
      "cell_type": "markdown",
      "source": [
        "# **Statistics Advance Part 1**"
      ],
      "metadata": {
        "id": "NPff_yijpk67"
      }
    },
    {
      "cell_type": "markdown",
      "source": [
        "# **Assignment Questions**"
      ],
      "metadata": {
        "id": "lbPGfNE-pws_"
      }
    },
    {
      "cell_type": "markdown",
      "source": [
        "**1. What is a random variable in probability theory?**"
      ],
      "metadata": {
        "id": "ku0rnwqqpzVu"
      }
    },
    {
      "cell_type": "markdown",
      "source": [
        "A random variable is a function that assigns a numerical value to each outcome of a random experiment.\n",
        "\n",
        "* **Discrete:** takes countable values (e.g., dice roll).\n",
        "\n",
        "* **Continuous:** takes any value in a range (e.g., time, height)."
      ],
      "metadata": {
        "id": "RrzrOEKFK4Hh"
      }
    },
    {
      "cell_type": "markdown",
      "source": [
        "**2. What are the types of random variables?**"
      ],
      "metadata": {
        "id": "vNaDgZpCqN6I"
      }
    },
    {
      "cell_type": "markdown",
      "source": [
        "**1. Discrete Random Variable**\n",
        "\n",
        "* Takes countable values\n",
        "\n",
        " **Example:** Number of heads in 5 coin tosses (0, 1, 2, 3, 4, 5)\n",
        "\n",
        "**2. Continuous Random Variable**\n",
        "\n",
        "* Takes any value in a continuous range\n",
        "\n",
        " **Example:** Temperature, height, time (e.g., 36.5°C, 36.51°C, etc.)"
      ],
      "metadata": {
        "id": "1VQd_fkTLEXq"
      }
    },
    {
      "cell_type": "markdown",
      "source": [
        "**3. What is the difference between discrete and continuous distributions?**"
      ],
      "metadata": {
        "id": "uBQgOqbAqQMQ"
      }
    },
    {
      "cell_type": "markdown",
      "source": [
        "A **discrete distribution** represents the probabilities of a discrete random variable, which can take only specific, countable values (e.g., 0, 1, 2).\n",
        "In contrast, a **continuous distribution** represents the probabilities of a continuous random variable, which can take any value within a range (e.g., 1.5, 2.01, 2.001...)."
      ],
      "metadata": {
        "id": "2nGrygJML6rQ"
      }
    },
    {
      "cell_type": "markdown",
      "source": [
        "**4. What are probability distribution functions (PDF)?**"
      ],
      "metadata": {
        "id": "S9dHjMgZqUQI"
      }
    },
    {
      "cell_type": "markdown",
      "source": [
        "A **Probability Distribution Function (PDF)** describes how probabilities are distributed over the values of a random variable. Depending on the nature of the variable—discrete or continuous—different functions are used to represent the distribution."
      ],
      "metadata": {
        "id": "arJf2AQCWgJ2"
      }
    },
    {
      "cell_type": "markdown",
      "source": [
        "**5. How do cumulative distribution functions (CDF) differ from probability distribution functions (PDF)?**"
      ],
      "metadata": {
        "id": "pmKluzvcqduF"
      }
    },
    {
      "cell_type": "markdown",
      "source": [
        "Difference between Cumulative Distribution Functions (CDF) and Probability Distribution Functions (PDF):\n",
        "\n",
        "**Probability Distribution Function (PDF)**\n",
        "\n",
        "**Definition:** For a continuous random variable, the PDF describes the relative likelihood of the variable taking on a given value. For a discrete random variable, it gives the probability of the variable taking on a given value.\n",
        "\n",
        "**Output:** The PDF gives the probability density (for continuous) or the probability (for discrete) at a specific value.\n",
        "Notation: Often denoted as f(x)\n",
        "\n",
        "**Cumulative Distribution Function (CDF)**\n",
        "\n",
        "**Definition:** Describes the probability that a random variable will take on a value less than or equal to a specified value.\n",
        "\n",
        "**Output:** The CDF gives the cumulative probability up to a certain value.\n",
        "Notation: Often denoted as F(x)"
      ],
      "metadata": {
        "id": "-FNOe_TiZQCN"
      }
    },
    {
      "cell_type": "markdown",
      "source": [
        "**6. What is a discrete uniform distribution?**"
      ],
      "metadata": {
        "id": "NCM8dbmtqiio"
      }
    },
    {
      "cell_type": "markdown",
      "source": [
        "A discrete uniform distribution is a type of probability distribution where a finite set of outcomes are equally likely to occur. Each possible outcome has the same probability, making it one of the simplest and most intuitive distributions in probability theory."
      ],
      "metadata": {
        "id": "ed1ZvgPeaJfx"
      }
    },
    {
      "cell_type": "markdown",
      "source": [
        "**7. What are the key properties of a Bernoulli distribution?**"
      ],
      "metadata": {
        "id": "3_vKYe2cqmrg"
      }
    },
    {
      "cell_type": "markdown",
      "source": [
        "Here are the key properties of a Bernoulli distribution:\n",
        "\n",
        "**Definition:**\n",
        "\n",
        "The Bernoulli distribution is a discrete probability distribution that models the probability of a single trial with two possible outcomes: success (typically represented by 1) or failure (typically represented by 0).\n",
        "\n",
        "**Parameters:**\n",
        "\n",
        "The probability of success. It ranges from 0 to 1.\n",
        "\n",
        "**Properties:**\n",
        "\n",
        "**Two Outcomes:** It describes a random experiment with only two possible outcomes.\n",
        "\n",
        "**Single Trial:** It represents a single trial or observation.\n",
        "\n",
        "**Probability of Success (p):** This parameter defines the likelihood of success.\n",
        "\n",
        "**Probability of Failure (1-p):** The probability of failure is the complement of the probability of success.\n",
        "\n",
        "**Expected Value (Mean):** The expected value of a Bernoulli random variable is equal to the probability of success (p).\n",
        "\n",
        "**Variance:** The variance is calculated as p(1-p)."
      ],
      "metadata": {
        "id": "DqDBww5DaVck"
      }
    },
    {
      "cell_type": "markdown",
      "source": [
        "**8. What is the binomial distribution, and how is it used in probability?**"
      ],
      "metadata": {
        "id": "x25i265wqqWY"
      }
    },
    {
      "cell_type": "markdown",
      "source": [
        "The binomial distribution is a discrete probability distribution that models the number of successes in a fixed number of independent trials, each with the same probability of success. It is widely used in statistics, quality control, finance, and various fields to analyze binary outcomes (success/failure) over multiple trials."
      ],
      "metadata": {
        "id": "JL88qZKGcirs"
      }
    },
    {
      "cell_type": "markdown",
      "source": [
        "**9. What is the Poisson distribution and where is it applied?**"
      ],
      "metadata": {
        "id": "nm2cJ92Rqtp1"
      }
    },
    {
      "cell_type": "markdown",
      "source": [
        "The Poisson distribution is a discrete probability distribution that models the number of events occurring within a fixed interval of time or space, given that these events happen independently and at a constant average rate. It is particularly useful for predicting the likelihood of rare events in large populations or over extended periods."
      ],
      "metadata": {
        "id": "oToVc2wVcytL"
      }
    },
    {
      "cell_type": "markdown",
      "source": [
        "**10. What is a continuous uniform distribution?**"
      ],
      "metadata": {
        "id": "vJvByrThqxVw"
      }
    },
    {
      "cell_type": "markdown",
      "source": [
        "A continuous uniform distribution is a type of probability distribution where all outcomes within a specified range are equally likely to occur. It's often referred to as a rectangular distribution due to its constant probability density over the interval."
      ],
      "metadata": {
        "id": "vFQUf39uc8OQ"
      }
    },
    {
      "cell_type": "markdown",
      "source": [
        "**11. What are the characteristics of a normal distribution?**"
      ],
      "metadata": {
        "id": "jSM0Ci5uq2iS"
      }
    },
    {
      "cell_type": "markdown",
      "source": [
        "**1. Bell-shaped and symmetric:** The distribution has a characteristic bell curve shape and is perfectly symmetrical around its mean.\n",
        "\n",
        "**2. Mean, median, and mode are equal:** These three measures of central tendency are all the same in a normal distribution.\n",
        "\n",
        "**3. Empirical rule applies:** Approximately 68%, 95%, and 99.7% of the data fall within one, two, and three standard deviations of the mean, respectively.\n",
        "\n",
        "**4. Defined by mean and standard deviation:** These two parameters completely determine the shape and location of the distribution."
      ],
      "metadata": {
        "id": "iFdNHl1EdjXV"
      }
    },
    {
      "cell_type": "markdown",
      "source": [
        "**12. What is the standard normal distribution, and why is it important?**"
      ],
      "metadata": {
        "id": "Wm9uTzTJq65M"
      }
    },
    {
      "cell_type": "markdown",
      "source": [
        "The **standard normal distribution** is a normal distribution with:\n",
        "It's a bell-shaped curve centered at 0 and symmetrical.\n",
        "\n",
        "* **Mean (μ) = 0**\n",
        "\n",
        "* **Standard deviation (σ) = 1**\n",
        "\n",
        "**Why is it Important?**\n",
        "\n",
        "1. **Z-Score Calculations** - It allows any normal distribution to be converted using:\n",
        "2. **Probability Estimation** - You can use Z-tables to find the probability of a value occurring within a range.\n",
        "3. **Hypothesis Testing & Confidence Intervals** - Many statistical tests (like t-tests and z-tests) rely on the standard normal distribution to calculate p-values and critical values."
      ],
      "metadata": {
        "id": "RiOyxL_7euYp"
      }
    },
    {
      "cell_type": "markdown",
      "source": [
        "**13. What is the Central Limit Theorem (CLT), and why is it critical in statistics?**"
      ],
      "metadata": {
        "id": "RMehNuuxq_0h"
      }
    },
    {
      "cell_type": "markdown",
      "source": [
        "-- The sampling distribution of the sample mean approaches a normal distribution as the sample size becomes large, regardless of the shape of the population distribution, provided the population has a finite mean and variance.\n",
        "\n",
        "* Take many random samples from any population.\n",
        "\n",
        "* Compute the mean of each sample.\n",
        "\n",
        "* As sample size (n) increases (typically n ≥ 30), the distribution of those means → normal distribution.\n",
        "\n",
        "**Why Is CLT Critical in Statistics**\n",
        "\n",
        "**Makes Normal Approximation Possible**\n",
        "\n",
        "* Even if the original data is skewed, you can still use normal-based methods.\n",
        "\n",
        "**Foundation for Hypothesis Testing & Confidence Intervals**\n",
        "\n",
        "* Most statistical tests assume sample means are normally distributed.\n",
        "\n",
        "**Simplifies Analysis**\n",
        "\n",
        "* Enables use of z-scores, t-tests, and other inferential methods"
      ],
      "metadata": {
        "id": "MDLF48ZogQwL"
      }
    },
    {
      "cell_type": "markdown",
      "source": [
        "**14. How does the Central Limit Theorem relate to the normal distribution?**"
      ],
      "metadata": {
        "id": "dmusFVHDrEKp"
      }
    },
    {
      "cell_type": "markdown",
      "source": [
        "The CLT highlights the normal distribution's importance in statistics by showing that it naturally emerges when we analyze sample means, regardless of the original population's distribution. This makes the normal distribution crucial for statistical analysis and hypothesis testing"
      ],
      "metadata": {
        "id": "ol2xBaU9iltR"
      }
    },
    {
      "cell_type": "markdown",
      "source": [
        "**15. What is the application of Z statistics in hypothesis testing?**"
      ],
      "metadata": {
        "id": "wxFp5AEurIJD"
      }
    },
    {
      "cell_type": "markdown",
      "source": [
        "The Z-statistic is used in hypothesis testing to determine how far a sample statistic (like the sample mean) is from the population mean, measured in standard deviations (σ).\n",
        "\n",
        "**When to Use Z-Tests?**\n",
        "* Large sample size (n ≥ 30)\n",
        "\n",
        "* Population standard deviation is known"
      ],
      "metadata": {
        "id": "KP-pbvhjjmxr"
      }
    },
    {
      "cell_type": "markdown",
      "source": [
        "**16. How do you calculate a Z-score, and what does it represent?**"
      ],
      "metadata": {
        "id": "x7CQ6ni5rOWs"
      }
    },
    {
      "cell_type": "markdown",
      "source": [
        "A z-score, or standard score, quantifies how many standard deviations a data point is from the mean of a dataset. It is a dimensionless value that indicates whether a data point is above or below the mean and by how much."
      ],
      "metadata": {
        "id": "gwvNUclQkdsl"
      }
    },
    {
      "cell_type": "markdown",
      "source": [
        "**17. What are point estimates and interval estimates in statistics?**"
      ],
      "metadata": {
        "id": "Dw00FHNKrWe-"
      }
    },
    {
      "cell_type": "markdown",
      "source": [
        "**Point estimates** offer a straightforward, single-value approximation of a population parameter but lack information about the estimate's reliability.\n",
        "\n",
        "**Interval estimates** provide a range that likely contains the population parameter, offering insight into the estimate's precision and the uncertainty associated with sampling."
      ],
      "metadata": {
        "id": "CZVpodrKlfNn"
      }
    },
    {
      "cell_type": "markdown",
      "source": [
        "**18. What is the significance of confidence intervals in statistical analysis?**"
      ],
      "metadata": {
        "id": "IaVhUASFravn"
      }
    },
    {
      "cell_type": "markdown",
      "source": [
        "Significances of confidence intervals in statistical analysis :\n",
        "\n",
        "* **Estimating Population Parameters:** Confidence intervals provide a range of plausible values for an unknown population parameter (e.g., mean, proportion) based on sample data.\n",
        "\n",
        "* **Quantifying Uncertainty:** They quantify the uncertainty associated with the estimate, indicating the level of confidence that the true parameter lies within the interval.\n",
        "\n",
        "* **Assessing Statistical Significance:** They can be used to determine whether a result is statistically significant by checking if the interval contains the null hypothesis value (e.g., 0 for a difference in means).\n",
        "\n",
        "* **Making Informed Decisions:** Confidence intervals help in making informed decisions by providing a range of potential outcomes, enabling more robust decision-making under uncertainty.\n",
        "\n",
        "* **Evaluating Precision of Estimates:** They reflect the precision of the estimate; narrower intervals indicate higher precision, while wider intervals suggest greater uncertainty."
      ],
      "metadata": {
        "id": "khD1btZol19g"
      }
    },
    {
      "cell_type": "markdown",
      "source": [
        "**19. What is the relationship between a Z-score and a confidence interval?**"
      ],
      "metadata": {
        "id": "WhLuMnhirfDp"
      }
    },
    {
      "cell_type": "markdown",
      "source": [
        "**Z-scores act as critical values to determine the width of a confidence interval.**\n",
        "\n",
        "**Confidence Level & Z-score:** For a specific confidence level (e.g., 95%), a corresponding Z-score is used (e.g., 1.96 for 95%). This Z-score defines the boundaries of the confidence interval.\n",
        "\n",
        "**Confidence Interval Calculation:** The formula for a confidence interval incorporates the Z-score, standard error, and sample mean to establish the range within which the population parameter is estimated to lie.\n",
        "\n",
        "**Trade-off:** Higher confidence levels necessitate larger Z-scores, resulting in wider confidence intervals. This signifies a trade-off: greater confidence in capturing the population parameter comes at the expense of reduced precision in the estimate."
      ],
      "metadata": {
        "id": "aWrfK2QIpKDT"
      }
    },
    {
      "cell_type": "markdown",
      "source": [
        "**20. How are Z-scores used to compare different distributions?**"
      ],
      "metadata": {
        "id": "uoWfm0kYrtb6"
      }
    },
    {
      "cell_type": "markdown",
      "source": [
        "Z-scores standardize data points from different distributions, enabling meaningful comparisons. By expressing values in terms of standard deviations from their respective means, Z-scores provide a common scale, making it possible to assess relative positions across diverse datasets."
      ],
      "metadata": {
        "id": "gJ9Q_4KyqOo8"
      }
    },
    {
      "cell_type": "markdown",
      "source": [
        "**21. What are the assumptions for applying the Central Limit Theorem?**"
      ],
      "metadata": {
        "id": "uKe7Xs2_s1uQ"
      }
    },
    {
      "cell_type": "markdown",
      "source": [
        "The Central Limit Theorem (CLT) relies on specific assumptions to ensure the sampling distribution of the sample mean approximates a normal distribution:\n",
        "\n",
        "**1. Random Sampling:** Samples must be drawn randomly from the population to ensure each member has an equal chance of selection.\n",
        "\n",
        "**2. Independence:** Each sample must be independent of the others. For sampling without replacement, the sample size should not exceed 10% of the total population to maintain independence.\n",
        "\n",
        "**3. Sample Size:** A sample size of at least 30 is generally considered sufficient for the CLT to apply, especially when the population distribution is not normal.\n",
        "\n",
        "**4. Finite Variance:** The population should have a finite variance; infinite variance can lead to undefined results."
      ],
      "metadata": {
        "id": "tD7BuKxYq5cY"
      }
    },
    {
      "cell_type": "markdown",
      "source": [
        "**22. What is the concept of expected value in a probability distribution?**"
      ],
      "metadata": {
        "id": "dzf_OD65s6G-"
      }
    },
    {
      "cell_type": "markdown",
      "source": [
        "The **expected value (EV)** of a random variable is the average value you would get if you repeated the random experiment an infinite number of times.\n",
        "\n",
        "It tells you the center or “balance point” of the probability distribution, where the outcomes tend to settle on average."
      ],
      "metadata": {
        "id": "Xa0vHCxEslxG"
      }
    },
    {
      "cell_type": "markdown",
      "source": [
        "**23. How does a probability distribution relate to the expected outcome of a random variable?**"
      ],
      "metadata": {
        "id": "62mN1npntATj"
      }
    },
    {
      "cell_type": "markdown",
      "source": [
        "1. **Probability Distribution Defines Likelihoods**\n",
        "A probability distribution tells you all possible values a random variable can take and how likely each value is.\n",
        "\n",
        "2. **Expected Outcome Is the Weighted Average**\n",
        "The expected value (or mean) is calculated by multiplying each possible value by its probability and summing them up.\n",
        "\n",
        "So, the expected outcome depends directly on the probability distribution’s shape.\n",
        "\n",
        "3. **Meaning**\n",
        "The expected value summarizes the distribution into a single number representing the average long-term outcome if you repeated the experiment many times."
      ],
      "metadata": {
        "id": "37EkSmvQuKAZ"
      }
    }
  ]
}