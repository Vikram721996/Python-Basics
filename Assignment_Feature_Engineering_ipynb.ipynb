{
  "nbformat": 4,
  "nbformat_minor": 0,
  "metadata": {
    "colab": {
      "provenance": []
    },
    "kernelspec": {
      "name": "python3",
      "display_name": "Python 3"
    },
    "language_info": {
      "name": "python"
    }
  },
  "cells": [
    {
      "cell_type": "markdown",
      "source": [
        "# **Assignment Questions**"
      ],
      "metadata": {
        "id": "fgoE_Fz6ZdyP"
      }
    },
    {
      "cell_type": "markdown",
      "source": [
        "**Q1. What is a parameter?**"
      ],
      "metadata": {
        "id": "GKg2fnL8Zydl"
      }
    },
    {
      "cell_type": "markdown",
      "source": [
        "In machine learning, a parameter is a value that the model learns from the training data to make predictions.\n",
        "\n",
        "**Examples:**\n",
        "\n",
        "* In linear regression, the slope (weights) and intercept are parameters.\n",
        "\n",
        "* In neural networks, the weights and biases in each layer are parameters.\n",
        "\n",
        "These values are adjusted during training to minimize the error between the model's predictions and the actual outcomes."
      ],
      "metadata": {
        "id": "IVIh7c97Z1An"
      }
    },
    {
      "cell_type": "markdown",
      "source": [
        "**Q2. What is correlation and What does negative correlation mean?**"
      ],
      "metadata": {
        "id": "nByUlJexZ5G0"
      }
    },
    {
      "cell_type": "markdown",
      "source": [
        "**Correlation** is a statistical measure that shows how two variables are related.\n",
        "\n",
        "* If both increase or decrease together, it's a positive correlation.\n",
        "* If one increases while the other decreases, it's a negative correlation.\n",
        "* If there's no connection, it's zero correlation.\n",
        "* It is usually measured by a value between -1 and +1.\n",
        "\n",
        "**Negative correlation** means that as one variable increases, the other variable decreases.\n",
        "In other words, they move in opposite directions."
      ],
      "metadata": {
        "id": "r62-IIZTZ90X"
      }
    },
    {
      "cell_type": "markdown",
      "source": [
        "**Q3. Define Machine Learning. What are the main components in Machine Learning?**"
      ],
      "metadata": {
        "id": "hVUiEShPaBBC"
      }
    },
    {
      "cell_type": "markdown",
      "source": [
        "**Machine Learning (ML)** is a branch of artificial intelligence that enables systems to learn from data and improve their performance without being explicitly programmed.\n",
        "\n",
        "**Main Components of Machine Learning:**\n",
        "\n",
        "1. **Data**\n",
        "Raw input used for training and testing the model.\n",
        "\n",
        "2. **Model**\n",
        "The mathematical structure (like a decision tree, neural network, etc.) that makes predictions or decisions based on data.\n",
        "\n",
        "3. **Features**\n",
        "The input variables or attributes extracted from data that are used for learning.\n",
        "\n",
        "4. **Labels (Targets)**\n",
        "The correct outputs used in supervised learning to guide the model.\n",
        "\n",
        "5. **Algorithm**\n",
        "The procedure (e.g., linear regression, gradient boosting) that trains the model by adjusting its parameters.\n",
        "\n",
        "6. **Training**\n",
        "The process of feeding data into the model and adjusting its parameters to minimize prediction errors.\n",
        "\n",
        "7. **Evaluation**\n",
        "Testing the model’s accuracy and performance on unseen data using metrics like accuracy, precision, recall, etc.\n",
        "\n",
        "8. **Prediction**\n",
        "Using the trained model to make decisions or forecasts on new, unseen data."
      ],
      "metadata": {
        "id": "E4SEmvKGaDJw"
      }
    },
    {
      "cell_type": "markdown",
      "source": [
        "**Q4. How does loss value help in determining whether the model is good or not?**"
      ],
      "metadata": {
        "id": "M-qsGG0OaF-Q"
      }
    },
    {
      "cell_type": "markdown",
      "source": [
        "The **loss value** measures how well the model's predictions match the actual data during training.\n",
        "\n",
        "A low loss means the model's predictions are close to the true values, indicating better performance.\n",
        "\n",
        "A high loss means the predictions are far from the true values, indicating poor performance.\n",
        "\n",
        "By monitoring the loss value, we can tell if the model is learning well (loss decreases) or if it needs improvement (loss stays high or fluctuates).\n",
        "So, lower loss generally means a better model."
      ],
      "metadata": {
        "id": "PizogdF-aIy8"
      }
    },
    {
      "cell_type": "markdown",
      "source": [
        "**Q5. What are continuous and categorical variables?**"
      ],
      "metadata": {
        "id": "gvhPWMDXaSM_"
      }
    },
    {
      "cell_type": "markdown",
      "source": [
        "**Continuous variables** are numerical and can take any value within a range **(e.g., height, weight, temperature).**\n",
        "They are measurable and often involve decimals or fractions.\n",
        "\n",
        "**Categorical variables** represent groups or categories **(e.g., gender, color, product type).**\n",
        "They can be nominal (no order) or ordinal (with order).\n",
        "\n",
        "\n",
        "Categorical variables are not used for arithmetic operations but for classification."
      ],
      "metadata": {
        "id": "GItgC21paSyO"
      }
    },
    {
      "cell_type": "markdown",
      "source": [
        "**Q6. How do we handle categorical variables in Machine Learning? What are the common techniques?**"
      ],
      "metadata": {
        "id": "udizEfMoaVNr"
      }
    },
    {
      "cell_type": "markdown",
      "source": [
        "**Handling Categorical Variables in Machine Learning**\n",
        "\n",
        "Categorical variables must be **converted into numeric form** to be used in most ML models.\n",
        "\n",
        "**Common Techniques:**\n",
        "1. **Label Encoding**\n",
        "\n",
        "* Converts categories into integers\n",
        "\n",
        "* Best for ordinal data (with order)\n",
        "\n",
        "**Example: Low = 0, Medium = 1, High = 2**\n",
        "\n",
        "2. **One-Hot Encoding**\n",
        "\n",
        "* Creates separate binary columns for each category\n",
        "\n",
        "* Best for nominal data (no order)\n",
        "\n",
        "**Example: Color → [Red, Green, Blue] becomes 3 columns with 0s and 1s**\n",
        "\n",
        "3. Ordinal Encoding\n",
        "\n",
        "* Similar to label encoding but explicitly maintains order\n",
        "\n",
        "* Used when order matters and can be manually defined\n",
        "\n",
        "4. **Binary Encoding / Target Encoding (less common)**\n",
        "\n",
        "* Advanced methods for high-cardinality categories (many unique values)\n",
        "\n",
        "\n",
        "These techniques are typically applied using sklearn.preprocessing or libraries like pandas."
      ],
      "metadata": {
        "id": "fHeYiatMaWtA"
      }
    },
    {
      "cell_type": "markdown",
      "source": [
        "**Q7. What do you mean by training and testing a dataset?**"
      ],
      "metadata": {
        "id": "B6nyVw9CaaEm"
      }
    },
    {
      "cell_type": "markdown",
      "source": [
        "**Training a dataset** means using a portion of data to teach the machine learning model by allowing it to learn patterns and relationships.\n",
        "\n",
        "**Testing a dataset** involves using a separate portion of data to evaluate the model's performance on unseen data.\n",
        "\n",
        "This helps check how well the model generalizes and avoids overfitting (memorizing the training data)."
      ],
      "metadata": {
        "id": "sgCcap64abY-"
      }
    },
    {
      "cell_type": "markdown",
      "source": [
        "**Q8. What is sklearn.preprocessing?**"
      ],
      "metadata": {
        "id": "9xaQsT_rag4g"
      }
    },
    {
      "cell_type": "markdown",
      "source": [
        "*sklearn.preprocessing* is a module in Scikit-learn used for scaling, transforming, and encoding data before training a machine learning model.\n",
        "\n",
        "It helps prepare the data to improve model accuracy and performance.\n",
        "\n",
        "**Common Tools in sklearn.preprocessing:**\n",
        "* **StandardScaler** - Standardizes features (mean = 0, std = 1)\n",
        "\n",
        "* **MinMaxScaler** - Scales features to a fixed range (e.g., 0 to 1)\n",
        "\n",
        "* **LabelEncoder** - Converts categorical labels to numeric form\n",
        "\n",
        "* **OneHotEncoder** - Converts categories to binary columns\n",
        "\n",
        "* **PolynomialFeatures** - Generates polynomial and interaction terms\n",
        "\n",
        "These tools are essential for cleaning and normalizing data before model training."
      ],
      "metadata": {
        "id": "JIq7dXfeaiYn"
      }
    },
    {
      "cell_type": "markdown",
      "source": [
        "**Q9. What is a Test set?**"
      ],
      "metadata": {
        "id": "xkRqQYfraoNy"
      }
    },
    {
      "cell_type": "markdown",
      "source": [
        "A **test set** is a portion of the dataset kept separate from training, used to **evaluate the performance** of a trained machine learning model.\n",
        "\n",
        "It contains **unseen data** that helps check how well the model generalizes to new examples, ensuring it doesn’t just memorize the training data."
      ],
      "metadata": {
        "id": "rJ7El5gdaplR"
      }
    },
    {
      "cell_type": "markdown",
      "source": [
        "**Q10. How do we split data for model fitting (training and testing) in Python? and How do you approach a Machine Learning problem?**"
      ],
      "metadata": {
        "id": "rfA3hKPnaq0L"
      }
    },
    {
      "cell_type": "markdown",
      "source": [
        " **can use train_test_split from Scikit-learn:**    \n",
        "    \n",
        "    from sklearn.model_selection import train_test_split\n",
        "\n",
        "    # X = features, y = target variable\n",
        "    X_train, X_test, y_train, y_test = train_test_split(X, y, test_size=0.2, random_state=42)\n",
        "\n",
        "* *test_size=0.2* means 20% of data is for testing, 80% for training\n",
        "\n",
        "* *random_state* ensures reproducibility\n",
        "\n",
        "**Approach to a Machine Learning Problem**\n",
        "\n",
        "1. **Understand the problem:** Define objectives and success criteria.\n",
        "\n",
        "2. **Collect and explore data:** Perform EDA to understand data quality and patterns.\n",
        "\n",
        "3. **Preprocess data:** Handle missing values, encode categorical variables, scale features.\n",
        "\n",
        "4. **Split data:** Create training and testing sets.\n",
        "\n",
        "5. **Choose a model:** Select algorithm(s) based on the problem type (regression, classification).\n",
        "\n",
        "6. **Train the model:** Fit on training data.\n",
        "\n",
        "7. **Evaluate the model:** Use test data and metrics (accuracy, RMSE, etc.) to assess performance.\n",
        "\n",
        "8. **Tune and optimize:** Adjust hyperparameters or try different models.\n",
        "\n",
        "9. **Deploy and monitor:** Use the model in production and track performance over time."
      ],
      "metadata": {
        "id": "2cUEnnHtarwE"
      }
    },
    {
      "cell_type": "markdown",
      "source": [
        "**Q11. Why do we have to perform EDA before fitting a model to the data?**"
      ],
      "metadata": {
        "id": "x3JdL57Favn-"
      }
    },
    {
      "cell_type": "markdown",
      "source": [
        "We perform **Exploratory Data Analysis (EDA)** before fitting a model to:\n",
        "\n",
        "* **Understand the data’s structure, patterns, and relationships.**\n",
        "\n",
        "* **Detect missing values, outliers, or errors** that might affect the model\n",
        "\n",
        "* **Choose relevant features** and decide how to preprocess them\n",
        "\n",
        "* **Get insights** that help select the right model and improve accuracy\n",
        "\n",
        "* **Avoid surprises** by knowing the data well before modeling\n",
        "\n",
        "In short, EDA helps ensure better, more reliable machine learning results."
      ],
      "metadata": {
        "id": "9BkfMBqGaxFq"
      }
    },
    {
      "cell_type": "markdown",
      "source": [
        "**Q12. What is correlation?**"
      ],
      "metadata": {
        "id": "IL5sGTRxazf4"
      }
    },
    {
      "cell_type": "markdown",
      "source": [
        "**Correlation** is a statistical measure that shows the **strength and direction** of the relationship between two variables.\n",
        "\n",
        "* If both variables increase or decrease together, they have a **positive correlation.**\n",
        "\n",
        "* If one increases while the other decreases, they have a **negative correlation.**\n",
        "\n",
        "* A correlation close to **0** means no relationship.\n",
        "\n",
        "Correlation values range from **–1 to +1**, where:\n",
        "\n",
        "* **+1** = perfect positive correlation\n",
        "\n",
        "* **0** = no correlation\n",
        "\n",
        "* **-1** = perfect negative correlation"
      ],
      "metadata": {
        "id": "cz8QM27La0wU"
      }
    },
    {
      "cell_type": "markdown",
      "source": [
        "**Q13. What does negative correlation mean?**"
      ],
      "metadata": {
        "id": "rQMZT-bka4l6"
      }
    },
    {
      "cell_type": "markdown",
      "source": [
        "**Negative correlation** means that as one variable increases, the other decreases.\n",
        "\n",
        "**They move in opposite directions.**\n",
        "\n",
        "**Example:**\n",
        "As the **price of a product increases,** its sales may decrease.\n",
        "This shows a negative relationship between price and sales."
      ],
      "metadata": {
        "id": "1gXt6IIta50A"
      }
    },
    {
      "cell_type": "markdown",
      "source": [
        "**Q14. How can you find correlation between variables in Python?**"
      ],
      "metadata": {
        "id": "lN0BpIlpa6zC"
      }
    },
    {
      "cell_type": "markdown",
      "source": [
        "correlation between variables in Python using **Pandas** or **NumPy**.\n",
        "\n",
        "    import pandas as pd\n",
        "\n",
        "    # Assuming df is your DataFrame\n",
        "    correlation_matrix = df.corr()\n",
        "    print(correlation_matrix)\n",
        "\n",
        "**For correlation between two specific variables:**\n",
        "\n",
        "    correlation = df['variable1'].corr(df['variable2'])\n",
        "    print(correlation)\n",
        "\n",
        "**Using NumPy:**\n",
        "\n",
        "    import numpy as np\n",
        "\n",
        "    correlation = np.corrcoef(array1, array2)[0, 1]\n",
        "    print(correlation)\n",
        "\n",
        "This helps you understand how strongly variables are related."
      ],
      "metadata": {
        "id": "YAg4Copwa77b"
      }
    },
    {
      "cell_type": "markdown",
      "source": [
        "**Q15. What is causation? Explain difference between correlation and causation with an example.**"
      ],
      "metadata": {
        "id": "9W96_JE6bJKz"
      }
    },
    {
      "cell_type": "markdown",
      "source": [
        "**Causation** means that **one variable directly causes a change in another.**\n",
        "It implies a **cause-and-effect** relationship.\n",
        "\n",
        "\n",
        "**Correlation** means two variables change together, but one does not necessarily cause the other.\n",
        "\n",
        "\n",
        "**Example:**\n",
        "Ice cream sales and sunburns are correlated (both rise in summer), but one doesn't cause the other.\n",
        "Smoking causes lung disease — that’s causation."
      ],
      "metadata": {
        "id": "nACnEjKEbLFb"
      }
    },
    {
      "cell_type": "markdown",
      "source": [
        "**Q16. What is an Optimizer? What are different types of optimizers? Explain each with an example.**"
      ],
      "metadata": {
        "id": "TtEtn3_6bN6r"
      }
    },
    {
      "cell_type": "markdown",
      "source": [
        "An **optimizer** is an algorithm used in machine learning, especially in training models like neural networks, to minimize the loss function by adjusting the model's parameters (weights and biases).\n",
        "Its goal is to find the best set of parameters that reduces prediction errors.\n",
        "\n",
        "**Different Types of Optimizers:**\n",
        "1. **Gradient Descent (GD)**\n",
        "\n",
        "* Updates parameters by moving in the direction of the negative gradient of the loss function.\n",
        "\n",
        "* Example: For a simple linear regression, it updates weights step-by-step to reduce error.\n",
        "\n",
        "* Limitation: Can be slow on large datasets.\n",
        "\n",
        "2. **Stochastic Gradient Descent (SGD)**\n",
        "\n",
        "* Similar to GD but updates parameters using one data point at a time.\n",
        "\n",
        "* Faster and works well with large datasets but can be noisy.\n",
        "\n",
        "3. **Mini-batch Gradient Descent**\n",
        "\n",
        "* Updates parameters using a small batch of data points (between 1 and total dataset size).\n",
        "\n",
        "* Balances speed and stability.\n",
        "\n",
        "4. **Adam (Adaptive Moment Estimation)**\n",
        "\n",
        "* Combines ideas from Momentum and RMSProp optimizers.\n",
        "\n",
        "* Adjusts learning rates for each parameter adaptively using estimates of first and second moments of gradients.\n",
        "\n",
        "* Widely used due to fast convergence and good performance.\n",
        "\n",
        "* Example: Used in training deep neural networks.\n",
        "\n",
        "5. **RMSProp**\n",
        "\n",
        "* Adapts learning rate for each parameter by dividing the learning rate by a moving average of recent gradient magnitudes.\n",
        "\n",
        "* Works well for non-stationary objectives."
      ],
      "metadata": {
        "id": "dOfmpvPebPIy"
      }
    },
    {
      "cell_type": "markdown",
      "source": [
        "**Q17. What is sklearn.linear_model ?**"
      ],
      "metadata": {
        "id": "k5QqqQPZbRT1"
      }
    },
    {
      "cell_type": "markdown",
      "source": [
        "**sklearn.linear_model** is a module in **Scikit-learn** that provides **linear models** for regression and classification tasks.\n",
        "\n",
        "**Common models in sklearn.linear_model:**\n",
        "* **LinearRegression** - For predicting continuous values (e.g., house prices)\n",
        "\n",
        "* **LogisticRegression** - For binary or multi-class classification (e.g., spam detection)\n",
        "\n",
        "* **Ridge, Lasso** - Variants of linear regression with regularization to prevent overfitting\n",
        "\n",
        "It's widely used for building simple and interpretable machine learning models."
      ],
      "metadata": {
        "id": "jgSH8RB9bSid"
      }
    },
    {
      "cell_type": "markdown",
      "source": [
        "**Q18. What does model.fit() do? What arguments must be given?**"
      ],
      "metadata": {
        "id": "8_s0nF0_bXGI"
      }
    },
    {
      "cell_type": "markdown",
      "source": [
        "    model.fit()\n",
        "is used to train a machine learning model by learning from the training data.\n",
        "It adjusts the model’s parameters to best fit the relationship between input features and target outputs.\n",
        "\n",
        "**Arguments you must provide:**\n",
        "* Input data (features): Usually a 2D array, DataFrame, or similar structure (X_train)\n",
        "\n",
        "* Target labels: Corresponding output values (y_train)\n",
        "\n",
        "* Optional parameters like sample weights, number of iterations, or validation data depending on the model."
      ],
      "metadata": {
        "id": "oH3dBCZ6bZMy"
      }
    },
    {
      "cell_type": "markdown",
      "source": [
        "**Q19. What does model.predict() do? What arguments must be given?**"
      ],
      "metadata": {
        "id": "nPcyHcrPbagF"
      }
    },
    {
      "cell_type": "markdown",
      "source": [
        "*model.predict()* is used to make predictions using a trained machine learning model on new or unseen data.\n",
        "\n",
        "**Arguments Required:**\n",
        "* You must provide input data (features) in the same format and structure as used during training.\n",
        "\n",
        "* Typically passed as a NumPy array, list of lists, or Pandas DataFrame."
      ],
      "metadata": {
        "id": "n0Bz0iOtbbt-"
      }
    },
    {
      "cell_type": "markdown",
      "source": [
        "**Q20.What are continuous and categorical variables?**"
      ],
      "metadata": {
        "id": "bWLRnvSybdp6"
      }
    },
    {
      "cell_type": "markdown",
      "source": [
        "**Continuous variables** are numerical values that can take any value within a range, like height or temperature.\n",
        "They are measurable and often include decimals.\n",
        "\n",
        "**Categorical variables** represent categories or groups, like gender or color.\n",
        "They can be nominal (no order) or ordinal (ordered), and are usually non-numeric or encoded as numbers."
      ],
      "metadata": {
        "id": "wM5T2cDHbez3"
      }
    },
    {
      "cell_type": "markdown",
      "source": [
        "**Q21. What is feature scaling? How does it help in Machine Learning?**"
      ],
      "metadata": {
        "id": "jZ6pUrPVbf1b"
      }
    },
    {
      "cell_type": "markdown",
      "source": [
        "**Feature scaling** is the process of standardizing or normalizing the range of independent variables (features) in a dataset.\n",
        "\n",
        "**How It Helps in Machine Learning:**\n",
        "* Ensures **all features contribute equally** to the model (especially distance-based ones like KNN, SVM).\n",
        "\n",
        "* Speeds up **model training** and improves **convergence** for gradient-based algorithms.\n",
        "\n",
        "* Prevents features with large values from **dominating** those with smaller ones.\n",
        "\n",
        "**Common methods:**\n",
        "\n",
        "*StandardScaler* (mean = 0, std = 1)\n",
        "\n",
        "*MinMaxScaler* (scales to 0-1 range)"
      ],
      "metadata": {
        "id": "Xlris9ZUbgwn"
      }
    },
    {
      "cell_type": "markdown",
      "source": [
        "**Q22. How do we perform scaling in Python?**"
      ],
      "metadata": {
        "id": "XT4bc2L2bjV9"
      }
    },
    {
      "cell_type": "markdown",
      "source": [
        "can perform feature scaling in Python easily using Scikit-learn’s preprocessing module.\n",
        "\n",
        "**Example with StandardScaler (standardization):**\n",
        "\n",
        "    from sklearn.preprocessing import StandardScaler\n",
        "\n",
        "    scaler = StandardScaler()\n",
        "    scaled_data = scaler.fit_transform(data)  # data can be a NumPy array or DataFrame\n",
        "\n",
        "**Example with MinMaxScaler (scaling to range 0-1):**\n",
        "\n",
        "    from sklearn.preprocessing import MinMaxScaler\n",
        "\n",
        "    scaler = MinMaxScaler()\n",
        "    scaled_data = scaler.fit_transform(data)"
      ],
      "metadata": {
        "id": "5nJ1cK7Wbkuf"
      }
    },
    {
      "cell_type": "markdown",
      "source": [
        "**Q23. What is sklearn.preprocessing?**"
      ],
      "metadata": {
        "id": "ThbnQR04bnpu"
      }
    },
    {
      "cell_type": "markdown",
      "source": [
        "*sklearn.preprocessing* is a module in Scikit-learn used to prepare and transform data before feeding it into a machine learning model.\n",
        "\n",
        "**What It Does:**\n",
        "* **Scales numerical features** (e.g., StandardScaler, MinMaxScaler)\n",
        "\n",
        "* **Encodes categorical variables** (e.g., LabelEncoder, OneHotEncoder)\n",
        "\n",
        "* **Transforms features** (e.g., PolynomialFeatures, Normalizer)\n",
        "\n",
        "* **Handles missing or inconsistent values**\n",
        "\n",
        "It ensures the data is in the right format and scale for optimal model performance."
      ],
      "metadata": {
        "id": "mi9aAeEobow0"
      }
    },
    {
      "cell_type": "markdown",
      "source": [
        "**Q24. How do we split data for model fitting (training and testing) in Python?**"
      ],
      "metadata": {
        "id": "0gjmYHARbrup"
      }
    },
    {
      "cell_type": "markdown",
      "source": [
        "**Can split data into training and testing sets using Scikit-learn’s train_test_split function:**\n",
        "\n",
        "    from sklearn.model_selection import train_test_split\n",
        "\n",
        "    # X = features, y = target\n",
        "    X_train, X_test, y_train, y_test = train_test_split(X, y, test_size=0.2, random_state=42)\n",
        "\n",
        "* *test_size=0.2* means 20% of data is for testing, 80% for training\n",
        "\n",
        "* *random_state* ensures reproducibility"
      ],
      "metadata": {
        "id": "dBAYpPCTbs9j"
      }
    },
    {
      "cell_type": "markdown",
      "source": [
        "**Q25. Explain data encoding?**"
      ],
      "metadata": {
        "id": "YoWYpDC_bu00"
      }
    },
    {
      "cell_type": "markdown",
      "source": [
        "**Data encoding** is the process of converting categorical (non-numeric) data into numerical format so it can be used by machine learning models.\n",
        "\n",
        "**Most ML algorithms work only with numbers, not text or labels.**\n",
        "\n",
        "**Common Encoding Methods:**\n",
        "1. **Label Encoding**\n",
        "\n",
        "* Converts categories to numbers **(e.g., \"Male\" → 0, \"Female\" → 1)**\n",
        "\n",
        "* Suitable for **ordinal data.**\n",
        "\n",
        "2. **One-Hot Encoding**\n",
        "\n",
        "* Creates binary columns for each category\n",
        "\n",
        "* Suitable for **nominal (non-ordered) data**\n",
        "\n",
        "Encoding helps models understand and process categorical data effectively."
      ],
      "metadata": {
        "id": "9UgrIW-nbwzG"
      }
    }
  ]
}