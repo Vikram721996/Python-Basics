{
  "nbformat": 4,
  "nbformat_minor": 0,
  "metadata": {
    "colab": {
      "provenance": []
    },
    "kernelspec": {
      "name": "python3",
      "display_name": "Python 3"
    },
    "language_info": {
      "name": "python"
    }
  },
  "cells": [
    {
      "cell_type": "markdown",
      "source": [
        "# **Data Types and Structures Questions**"
      ],
      "metadata": {
        "id": "IR8VeYtdKqGr"
      }
    },
    {
      "cell_type": "markdown",
      "source": [
        "**01. What are data structures, and why are they important?**"
      ],
      "metadata": {
        "id": "SfNAI7nTLJiR"
      }
    },
    {
      "cell_type": "markdown",
      "source": [
        "**Ans:** Data structures are ways to organize and store data in a computer so it can be used efficiently. It defines the relationship between the data and the operations that can be performed on them.\n",
        "\n",
        "**Why They're Important:**\n",
        "\n",
        "(i) Make data easy to access and modify.\n",
        "\n",
        "(ii) Improve speed and performance of programs.\n",
        "\n",
        "(iii) Help manage large amounts of data.\n",
        "\n",
        "(iv) Essential for building efficient algorithms."
      ],
      "metadata": {
        "id": "7Xv6bhj967mM"
      }
    },
    {
      "cell_type": "markdown",
      "source": [
        "**02.  Explain the difference between mutable and immutable data types with examples.**"
      ],
      "metadata": {
        "id": "6nmXxvGoLXoz"
      }
    },
    {
      "cell_type": "markdown",
      "source": [
        "**Ans:** **Mutable data types** are types whose values can be changed after they are created.\n",
        "\n",
        "**Mutable Data Types (can be changed):**\n",
        "You can modify, add, or remove elements.\n",
        "\n",
        "**Examples:**\n",
        "\n",
        "list , dict (dictionary) , set."
      ],
      "metadata": {
        "id": "uywI2OjH7D92"
      }
    },
    {
      "cell_type": "markdown",
      "source": [
        "**Immutable data types** are types whose values cannot be changed after they are created.\n",
        "\n",
        "**Examples:**\n",
        "\n",
        "int , float , str (string) , tuple"
      ],
      "metadata": {
        "id": "rGoQvgT5o1io"
      }
    },
    {
      "cell_type": "markdown",
      "source": [
        "**03. What are the main differences between lists and tuples in Python?**"
      ],
      "metadata": {
        "id": "k2ZifLNTLkqH"
      }
    },
    {
      "cell_type": "markdown",
      "source": [
        "**Ans:**\n",
        "# **Main Differences Between Lists and Tuples:**\n",
        "\n",
        "# **Mutability**\n",
        "\n",
        "**A list** is a mutable data structure, meaning its elements can be changed, added, or removed after creation.\n",
        "\n",
        "**A tuple** is immutable, meaning once it is created, its elements cannot be modified.\n",
        "\n",
        "# **Syntax**\n",
        "\n",
        "**A list** is defined using square brackets [ ].\n",
        "\n",
        "Example: my_list = [1, 2, 3]\n",
        "\n",
        "**A tuple** is defined using parentheses ( ).\n",
        "\n",
        "Example: my_tuple = (1, 2, 3)\n",
        "\n",
        "# **Methods**\n",
        "\n",
        "**Lists** have many built-in methods such as **append(), remove(), pop(),** etc., which allow easy modification.\n",
        "\n",
        "**Tuples** have fewer methods because they are not meant to be modified after creation.\n",
        "\n",
        "# **Performance**\n",
        "\n",
        "**Lists** are slightly slower because of their flexibility and dynamic nature.\n",
        "\n",
        "**Tuples** are faster and more memory-efficient due to their fixed size and immutability.\n",
        "\n",
        "# **Use Case**\n",
        "\n",
        "Use a **list** when you need a dynamic collection of items that may change over time.\n",
        "\n",
        "Use a **tuple** when you need a fixed collection of items that should remain\n",
        "constant throughout the program."
      ],
      "metadata": {
        "id": "evpOx1Vz7m4X"
      }
    },
    {
      "cell_type": "markdown",
      "source": [
        "**04. Describe how dictionaries store data.**"
      ],
      "metadata": {
        "id": "bsy8tnUMLpPE"
      }
    },
    {
      "cell_type": "markdown",
      "source": [
        "**Ans:** A dictionary in Python is an unordered, mutable collection that stores data in key-value pairs. Each key maps to a value, allowing fast and direct access to data using the key.\n",
        "\n",
        "**How Dictionaries Store Data:**\n",
        "\n",
        "Dictionaries use a **hash table** internally.\n",
        "\n",
        "Each key is passed through a **hashing function** to generate a unique index.\n",
        "\n",
        "This index determines where the value is stored in memory.\n",
        "\n",
        "This makes **lookups, insertions, and deletions** very fast **(on average, O(1) time complexity).**"
      ],
      "metadata": {
        "id": "qZNvUOYg70of"
      }
    },
    {
      "cell_type": "markdown",
      "source": [
        "**05. Why might you use a set instead of a list in Python?**"
      ],
      "metadata": {
        "id": "IqPsjBlRLw2A"
      }
    },
    {
      "cell_type": "markdown",
      "source": [
        "**Ans:** A set is used when you need to store unique items and don’t care about the order.\n",
        "\n",
        "**Main Reasons to Use a Set:**\n",
        "\n",
        "No duplicates allowed.\n",
        "\n",
        "Sets automatically remove duplicate values.\n",
        "\n",
        "Perfect for storing unique data.\n",
        "\n",
        "Faster Lookups.\n",
        "\n",
        "Checking if an item exists is faster in a set than in a list **(average time: O(1) vs. O(n)).** Efficient Set Operations\n",
        "\n",
        "Sets support powerful operations like **union, intersection, difference,** etc."
      ],
      "metadata": {
        "id": "056PyIMl77Ry"
      }
    },
    {
      "cell_type": "markdown",
      "source": [
        "**06. What is a string in Python, and how is it different from a list?**"
      ],
      "metadata": {
        "id": "NvmP8HFNMBY1"
      }
    },
    {
      "cell_type": "markdown",
      "source": [
        "**Ans:** **String** is a sequence of characters—such as **letters, numbers, or symbols—used** to represent text in Python.\n",
        "Strings are written inside quotes, like **'Hello' or \"Python\".**\n",
        "\n",
        "Strings are immutable, meaning once a string is created, its characters cannot be changed directly.\n",
        "\n",
        "**How is it Different from a List?**\n",
        "\n",
        "A list is a collection of items, not just text. It can store numbers, strings, or even other lists.\n",
        "\n",
        "Written inside square brackets: [1, 2, 3] or [\"apple\", \"banana\"]\n",
        "\n",
        "Lists are mutable – you can change, add, or remove items.\n",
        "\n",
        "\n",
        "String = text only, cannot be changed.\n",
        "\n",
        "List = can hold anything (numbers, text, etc.), can be changed."
      ],
      "metadata": {
        "id": "ddRcKCqV8Dlx"
      }
    },
    {
      "cell_type": "markdown",
      "source": [
        "**07. How do tuples ensure data integrity in Python?**"
      ],
      "metadata": {
        "id": "RkiRgmEMMRSe"
      }
    },
    {
      "cell_type": "markdown",
      "source": [
        "**Ans: Tuples ensure data integrity in Python because they are immutable.**\n",
        "\n",
        "This means their contents can’t be changed after creation, which prevents accidental data modification. They're also hashable (if elements are), making them safe for use as dictionary keys or set elements, and ideal for storing fixed, read-only data."
      ],
      "metadata": {
        "id": "Bggs8A4Z0XTU"
      }
    },
    {
      "cell_type": "markdown",
      "source": [
        "**08. What is a hash table, and how does it relate to dictionaries in Python?**"
      ],
      "metadata": {
        "id": "AlDwdRCEMWGi"
      }
    },
    {
      "cell_type": "markdown",
      "source": [
        "**Ans:** A hash table is a data structure that stores key-value pairs and uses a hash function to quickly find values based on their keys.\n",
        "\n",
        "It allows for fast data access, usually in constant time (O(1)).\n",
        "\n",
        "In Python, a dictionary (dict) is built using a hash table.\n",
        "\n",
        "**This means:**\n",
        "\n",
        "It uses a hash function to convert keys into numbers.\n",
        "\n",
        "These numbers determine where the values are stored.\n",
        "\n",
        "This allows for fast access, insertion, and deletion based on the key."
      ],
      "metadata": {
        "id": "Txftutak8K1T"
      }
    },
    {
      "cell_type": "markdown",
      "source": [
        "**09. Can lists contain different data types in Python?**"
      ],
      "metadata": {
        "id": "1mj3ICe8Mb0p"
      }
    },
    {
      "cell_type": "markdown",
      "source": [
        "**Ans: Yes,** In Python, lists can contain different data types.\n",
        "\n",
        "**We can mix:**\n",
        "\n",
        "Integers\n",
        "\n",
        "Strings\n",
        "\n",
        "Floats\n",
        "\n",
        "Booleans\n",
        "\n",
        "Even other lists or objects"
      ],
      "metadata": {
        "id": "2mfjIS038rxh"
      }
    },
    {
      "cell_type": "markdown",
      "source": [
        "**10. Explain why strings are immutable in Python.**"
      ],
      "metadata": {
        "id": "WMLO6RiCMkv-"
      }
    },
    {
      "cell_type": "markdown",
      "source": [
        "**Ans:** Strings are immutable in python because their contents cannot be changed once created. Any operation that appears to modify a string actually creates a new string, leaving the original unchanged.\n",
        "\n",
        "**Reasons for Immutability:**\n",
        "\n",
        "**Performance & Efficiency:** Immutable objects can be optimized and reused in memory, making string operations faster and more efficient.\n",
        "\n",
        "**Safety & Reliability:** Since strings can’t be changed, multiple parts of a program can safely use the same string without the risk of unexpected modifications.\n",
        "\n",
        "**Hashability:** Immutability allows strings to be hashable, which is essential for using them as keys in dictionaries or elements in sets."
      ],
      "metadata": {
        "id": "KBuKiDY_8kOe"
      }
    },
    {
      "cell_type": "markdown",
      "source": [
        "**11. What advantages do dictionaries offer over lists for certain tasks?**"
      ],
      "metadata": {
        "id": "keYZ1BGCMoI4"
      }
    },
    {
      "cell_type": "markdown",
      "source": [
        "**Ans:** Advantages of do dictionaries offer over lists for certain tasks:\n",
        "\n",
        "1. Faster lookups using keys (O(1) time).\n",
        "\n",
        "2. Key-value pairs make data more structured.\n",
        "\n",
        "3. More readable and easier to understand.\n",
        "\n",
        "4. No need to remember indexes—use meaningful keys."
      ],
      "metadata": {
        "id": "h-R0Thuo8xq2"
      }
    },
    {
      "cell_type": "markdown",
      "source": [
        "**12. Describe a scenario where using a tuple would be preferable over a list.**"
      ],
      "metadata": {
        "id": "QT5oomRCMuGp"
      }
    },
    {
      "cell_type": "markdown",
      "source": [
        "**Ans:** Use a tuple when you need to store a fixed set of values that should not change.\n",
        "\n",
        "Storing coordinates **(like GPS location):**\n",
        "\n",
        "**location = (28.6139, 77.2090)  # (latitude, longitude)**\n",
        "\n",
        "**Why tuple?**\n",
        "\n",
        "The number of values is fixed.\n",
        "\n",
        "You don’t want the data to be accidentally modified.\n",
        "\n",
        "It can be used as a dictionary key if needed."
      ],
      "metadata": {
        "id": "S1sxcnwT83PG"
      }
    },
    {
      "cell_type": "markdown",
      "source": [
        "**13. How do sets handle duplicate values in Python?.**"
      ],
      "metadata": {
        "id": "gPHOGQK9NF1l"
      }
    },
    {
      "cell_type": "markdown",
      "source": [
        "**Ans:** In Python, a set is an unordered collection of unique elements. It automatically removes duplicates, keeping only one copy of each value."
      ],
      "metadata": {
        "id": "O7rqmeMt9RZ_"
      }
    },
    {
      "cell_type": "markdown",
      "source": [
        "**14. How does the “in” keyword work differently for lists and dictionaries?**"
      ],
      "metadata": {
        "id": "etSF22eqNJ23"
      }
    },
    {
      "cell_type": "markdown",
      "source": [
        "**Ans:** **\"in\"** Keyword in Python : The **\"in\"** keyword checks for membership, but it behaves differently for lists and dictionaries.\n",
        "\n",
        "**For Lists:**  Checks if a value exists in the list."
      ],
      "metadata": {
        "id": "FLVfCvy4-0O8"
      }
    },
    {
      "cell_type": "markdown",
      "source": [
        "**For Dictionaries:** Checks if a key exists in the dictionary (not the value)."
      ],
      "metadata": {
        "id": "eL_Q1kr4_s9N"
      }
    },
    {
      "cell_type": "markdown",
      "source": [
        "**15. Can you modify the elements of a tuple? Explain why or why not.**\n"
      ],
      "metadata": {
        "id": "jIVpcVCENSBv"
      }
    },
    {
      "cell_type": "markdown",
      "source": [
        "**No,** you cannot modify the elements of a tuple in Python.\n",
        "\n",
        "**Why?**\n",
        "\n",
        "Because tuples are immutable, meaning once created, their elements cannot be changed, added, or removed.\n",
        "\n",
        "**Why Not?**\n",
        "\n",
        "You can’t modify a tuple because it’s immutable — this helps protect data from accidental changes and improves performance."
      ],
      "metadata": {
        "id": "tTnGpkhqC0m-"
      }
    },
    {
      "cell_type": "markdown",
      "source": [
        "**16. What is a nested dictionary, and give an example of its use case?**"
      ],
      "metadata": {
        "id": "WqYZhvZENY1a"
      }
    },
    {
      "cell_type": "markdown",
      "source": [
        "**Ans:** A nested dictionary in Python is a dictionary inside another dictionary. It allows you to store and organize complex data in a structured way.\n",
        "\n",
        "**Use Case: Student Records System**\n",
        "\n",
        "A school wants to store info about multiple students, including their name, age, and marks. A nested dictionary is perfect for this!"
      ],
      "metadata": {
        "id": "ZYXS7MHNEGPM"
      }
    },
    {
      "cell_type": "markdown",
      "source": [
        "**17. Describe the time complexity of accessing elements in a dictionary.**"
      ],
      "metadata": {
        "id": "RTKTpNgSNhN1"
      }
    },
    {
      "cell_type": "markdown",
      "source": [
        "**Ans:** **Dictionary Access Time Complexity**\n",
        "\n",
        "Accessing a value using a key in a dictionary is usually:\n",
        "\n",
        "**O(1) — Constant Time**\n",
        "\n",
        "This means it takes the same amount of time no matter how many items are in the dictionary.\n",
        "\n",
        "**Why?**\n",
        "\n",
        "Dictionaries use hashing to quickly find keys.\n",
        "\n",
        "Python directly jumps to the location of the value using the key’s hash."
      ],
      "metadata": {
        "id": "H7EprU-9FnyY"
      }
    },
    {
      "cell_type": "markdown",
      "source": [
        "**18. In what situations are lists preferred over dictionaries?**"
      ],
      "metadata": {
        "id": "51tdxB8dNnYn"
      }
    },
    {
      "cell_type": "markdown",
      "source": [
        "**Ans:** Lists are preferred when you need an ordered collection of simple, non-paired data that can be accessed by position (index). They are ideal when the order of elements matters and key-value mapping is not required."
      ],
      "metadata": {
        "id": "moQVpp27Hahf"
      }
    },
    {
      "cell_type": "markdown",
      "source": [
        "**19. Why are dictionaries considered unordered, and how does that affect data retrieval?**"
      ],
      "metadata": {
        "id": "UpfRxfJ2NsMo"
      }
    },
    {
      "cell_type": "markdown",
      "source": [
        "Dictionaries are considered unordered because they are designed for key-based access, not for maintaining the position of items. In Python versions before **3.7,** they did not preserve the insertion order at all. From **Python 3.7** onward, they maintain insertion order, but dictionaries are still not accessed by index like lists. You must use the exact key to retrieve a value, and you cannot rely on position. This makes dictionaries very fast for lookups, but not ideal when the order of elements matters."
      ],
      "metadata": {
        "id": "ZDBEfPtoIDyg"
      }
    },
    {
      "cell_type": "markdown",
      "source": [
        "**20. Explain the difference between a list and a dictionary in terms of data retrieval.**"
      ],
      "metadata": {
        "id": "Ax7QS8lnNzLQ"
      }
    },
    {
      "cell_type": "markdown",
      "source": [
        "**Ans:** **Difference Between List and Dictionary (Data Retrieval):**\n",
        "\n",
        "1. **In List :** You access data using a number **(index).**\n",
        "\n",
        "     Example: my_list[0] gives you the first item.\n",
        "\n",
        "  **In Dictionaries:** You access data using a key **(name).**\n",
        "\n",
        "     Example: my_dict[\"name\"] gives you the value linked to that key.\n",
        "\n",
        "2. **Lists** are for ordered data, like a sequence of items.\n",
        "\n",
        "  **Dictionaries** are for key-value pairs, like names and phone numbers.\n",
        "\n",
        "3. **Lists:** slower for searching **(O(n)),\n",
        "\n",
        "   **Dictionaries:** faster (O(1) on average).\n",
        "\n",
        "4. In a **list,** position matters.\n",
        "\n",
        "   In a **dictionary,** the key matters."
      ],
      "metadata": {
        "id": "9ITvBlQMJPWu"
      }
    },
    {
      "cell_type": "markdown",
      "source": [
        "# **Practical Questions**"
      ],
      "metadata": {
        "id": "svNNXOOzN5VQ"
      }
    },
    {
      "cell_type": "markdown",
      "source": [
        "**1. Write a code to create a string with your name and print it.**"
      ],
      "metadata": {
        "id": "hiqHlxXXOGNK"
      }
    },
    {
      "cell_type": "code",
      "source": [
        "# Creating a string with a name\n",
        "my_name = \"Vikram\"\n",
        "\n",
        "# Printing the string\n",
        "print(my_name)"
      ],
      "metadata": {
        "colab": {
          "base_uri": "https://localhost:8080/"
        },
        "id": "KEFq0obMPIQs",
        "outputId": "ef2d560b-d909-4935-d322-6a75927d8858"
      },
      "execution_count": 62,
      "outputs": [
        {
          "output_type": "stream",
          "name": "stdout",
          "text": [
            "Vikram\n"
          ]
        }
      ]
    },
    {
      "cell_type": "markdown",
      "source": [
        "**2. Write a code to find the length of the string \"Hello World\"**"
      ],
      "metadata": {
        "id": "L4F_lyaoi_dR"
      }
    },
    {
      "cell_type": "code",
      "source": [
        "# Defining the srting\n",
        "text = \"Hello World\"\n",
        "\n",
        "# Finding the length of the string using len() function\n",
        "length = len(text)\n",
        "\n",
        "# Printing the result\n",
        "print(length)"
      ],
      "metadata": {
        "colab": {
          "base_uri": "https://localhost:8080/"
        },
        "id": "bm9oMIqlPT94",
        "outputId": "d1f26cc3-66e2-4232-d1ef-67045751a1d4"
      },
      "execution_count": 60,
      "outputs": [
        {
          "output_type": "stream",
          "name": "stdout",
          "text": [
            "11\n"
          ]
        }
      ]
    },
    {
      "cell_type": "markdown",
      "source": [
        "**3. Write a code to slice the first 3 characters from the string \"Python Programming\"**"
      ],
      "metadata": {
        "id": "yJjQMbuujGJ6"
      }
    },
    {
      "cell_type": "code",
      "source": [
        "# Defining the string\n",
        "text = \"Python Programming\"\n",
        "\n",
        "# Slicing the first 3 characters (index 0 to 2)\n",
        "sliced_text = text[:3]\n",
        "\n",
        "# Printing the result\n",
        "print(sliced_text)"
      ],
      "metadata": {
        "id": "2Wv4pekLjMyl",
        "colab": {
          "base_uri": "https://localhost:8080/"
        },
        "outputId": "44db1b94-1579-43bf-ee2f-e91213f8c597"
      },
      "execution_count": 61,
      "outputs": [
        {
          "output_type": "stream",
          "name": "stdout",
          "text": [
            "Pyt\n"
          ]
        }
      ]
    },
    {
      "cell_type": "markdown",
      "source": [
        "**4. Write a code to convert the string \"hello\" to uppercase.**"
      ],
      "metadata": {
        "id": "I4ATcC0ajUcy"
      }
    },
    {
      "cell_type": "code",
      "source": [
        "# Defining the string\n",
        "text = \"hello\"\n",
        "\n",
        "# Converting to uppercase using upper() method\n",
        "uppercase_text = text.upper()\n",
        "\n",
        "# Printing the result\n",
        "print(uppercase_text)"
      ],
      "metadata": {
        "id": "RpViZ0abjZQk",
        "colab": {
          "base_uri": "https://localhost:8080/"
        },
        "outputId": "42207590-47e0-4e53-f506-fc9b0a7bea3b"
      },
      "execution_count": 63,
      "outputs": [
        {
          "output_type": "stream",
          "name": "stdout",
          "text": [
            "HELLO\n"
          ]
        }
      ]
    },
    {
      "cell_type": "markdown",
      "source": [
        "**5. Write a code to replace the word \"apple\" with \"orange\" in the string \"I like apple\"**"
      ],
      "metadata": {
        "id": "L0oXMxJoja6R"
      }
    },
    {
      "cell_type": "code",
      "source": [
        "# Original string\n",
        "text = \"I like apple\"\n",
        "\n",
        "# Replace 'apple' with 'orange'\n",
        "new_text = text.replace(\"apple\", \"orange\")\n",
        "\n",
        "# Printing the updated string\n",
        "print(new_text)"
      ],
      "metadata": {
        "id": "Z2oWEajCjgGa",
        "colab": {
          "base_uri": "https://localhost:8080/"
        },
        "outputId": "243eee89-4b97-4340-a329-2869e88d335c"
      },
      "execution_count": 64,
      "outputs": [
        {
          "output_type": "stream",
          "name": "stdout",
          "text": [
            "I like orange\n"
          ]
        }
      ]
    },
    {
      "cell_type": "markdown",
      "source": [
        "**6. Write a code to create a list with numbers 1 to 5 and print it.**"
      ],
      "metadata": {
        "id": "R1mHHZmljgyJ"
      }
    },
    {
      "cell_type": "code",
      "source": [
        "# Creating a list with numbers 1 to 5\n",
        "numbers = [1, 2, 3, 4, 5]\n",
        "\n",
        "# Printing the list\n",
        "print(numbers)"
      ],
      "metadata": {
        "id": "gjYgxklzjq5x",
        "colab": {
          "base_uri": "https://localhost:8080/"
        },
        "outputId": "87b49f4a-efd6-41cc-e3a4-0a2eaea39a2b"
      },
      "execution_count": 65,
      "outputs": [
        {
          "output_type": "stream",
          "name": "stdout",
          "text": [
            "[1, 2, 3, 4, 5]\n"
          ]
        }
      ]
    },
    {
      "cell_type": "markdown",
      "source": [
        "**7. Write a code to append the number 10 to the list [1, 2, 3, 4]**"
      ],
      "metadata": {
        "id": "iEli5h2mjrid"
      }
    },
    {
      "cell_type": "code",
      "source": [
        "# Defining the original list\n",
        "numbers = [1, 2, 3, 4]\n",
        "\n",
        "# Appending the number 10 to the list\n",
        "numbers.append(10)\n",
        "\n",
        "# Printing the updated list\n",
        "print(numbers)"
      ],
      "metadata": {
        "id": "s1iMNb3gjw_U",
        "colab": {
          "base_uri": "https://localhost:8080/"
        },
        "outputId": "c296cade-2a03-43ee-8b9d-c13ee8107999"
      },
      "execution_count": 66,
      "outputs": [
        {
          "output_type": "stream",
          "name": "stdout",
          "text": [
            "[1, 2, 3, 4, 10]\n"
          ]
        }
      ]
    },
    {
      "cell_type": "markdown",
      "source": [
        "**8. Write a code to remove the number 3 from the list [1, 2, 3, 4, 5]**"
      ],
      "metadata": {
        "id": "n88h7SHqjxdF"
      }
    },
    {
      "cell_type": "code",
      "source": [
        "# Defining the original list\n",
        "numbers = [1, 2, 3, 4, 5]\n",
        "\n",
        "# Removing the number 3 from the list\n",
        "numbers.remove(3)\n",
        "\n",
        "# Printing the updated list\n",
        "print(numbers)"
      ],
      "metadata": {
        "id": "dFEZK0bwj1-D",
        "colab": {
          "base_uri": "https://localhost:8080/"
        },
        "outputId": "87968964-068a-4d33-f551-695652a9337b"
      },
      "execution_count": 68,
      "outputs": [
        {
          "output_type": "stream",
          "name": "stdout",
          "text": [
            "[1, 2, 4, 5]\n"
          ]
        }
      ]
    },
    {
      "cell_type": "markdown",
      "source": [
        "**9. Write a code to access the second element in the list ['a', 'b', 'c', 'd']**"
      ],
      "metadata": {
        "id": "QbIHSPKQj2tY"
      }
    },
    {
      "cell_type": "code",
      "source": [
        "# Defining the list\n",
        "letters = ['a', 'b', 'c', 'd']\n",
        "\n",
        "# Accessing the second element (index 1, since indexing starts at 0)\n",
        "second_element = letters[1]\n",
        "\n",
        "# Printing the result\n",
        "print(second_element)"
      ],
      "metadata": {
        "id": "vfDNeBFNj9fd",
        "colab": {
          "base_uri": "https://localhost:8080/"
        },
        "outputId": "bb9bed30-e239-437f-cd41-c0cfe8992d45"
      },
      "execution_count": 69,
      "outputs": [
        {
          "output_type": "stream",
          "name": "stdout",
          "text": [
            "b\n"
          ]
        }
      ]
    },
    {
      "cell_type": "markdown",
      "source": [
        "**10. Write a code to reverse the list [10, 20, 30, 40, 50].**"
      ],
      "metadata": {
        "id": "S-SsV858j98E"
      }
    },
    {
      "cell_type": "code",
      "source": [
        "# Defining the original list\n",
        "numbers = [10, 20, 30, 40, 50]\n",
        "\n",
        "# Reversing the list using reverse() method\n",
        "numbers.reverse()\n",
        "\n",
        "# Printing the reversed list\n",
        "print(numbers)"
      ],
      "metadata": {
        "id": "MKNYk2sIkESK",
        "colab": {
          "base_uri": "https://localhost:8080/"
        },
        "outputId": "8f42a51a-a9e8-49d0-f13f-9b4d6f0d9cb0"
      },
      "execution_count": 72,
      "outputs": [
        {
          "output_type": "stream",
          "name": "stdout",
          "text": [
            "[50, 40, 30, 20, 10]\n"
          ]
        }
      ]
    },
    {
      "cell_type": "markdown",
      "source": [
        "**11. Write a code to create a tuple with the elements 100, 200, 300 and print it.**"
      ],
      "metadata": {
        "id": "O4MzSC-ikEvq"
      }
    },
    {
      "cell_type": "code",
      "source": [
        "# Creating a tuple with elements 100, 200, 300\n",
        "my_tuple = (100, 200, 300)\n",
        "\n",
        "# Printing the tuple\n",
        "print(my_tuple)"
      ],
      "metadata": {
        "id": "FWvUsOCVkMXv",
        "colab": {
          "base_uri": "https://localhost:8080/"
        },
        "outputId": "2ef3e46f-63a1-494d-edd9-42e2254672c4"
      },
      "execution_count": 74,
      "outputs": [
        {
          "output_type": "stream",
          "name": "stdout",
          "text": [
            "(100, 200, 300)\n"
          ]
        }
      ]
    },
    {
      "cell_type": "markdown",
      "source": [
        "**12. Write a code to access the second-to-last element of the tuple ('red', 'green', 'blue', 'yellow')**"
      ],
      "metadata": {
        "id": "wtI_UsVjkM5c"
      }
    },
    {
      "cell_type": "code",
      "source": [
        "# Defining the tuple\n",
        "colors = ('red', 'green', 'blue', 'yellow')\n",
        "\n",
        "# Accessing the second-to-last element using negative indexing\n",
        "second_last = colors[-2]\n",
        "\n",
        "# Printing the result\n",
        "print(second_last)"
      ],
      "metadata": {
        "id": "mrupOCzSkSrR",
        "colab": {
          "base_uri": "https://localhost:8080/"
        },
        "outputId": "86bccf5a-c67b-42d0-aa70-270e4ab7008c"
      },
      "execution_count": 77,
      "outputs": [
        {
          "output_type": "stream",
          "name": "stdout",
          "text": [
            "blue\n"
          ]
        }
      ]
    },
    {
      "cell_type": "markdown",
      "source": [
        "**13. Write a code to find the minimum number in the tuple (10, 20, 5, 15).**"
      ],
      "metadata": {
        "id": "a6TrUPPlkTMj"
      }
    },
    {
      "cell_type": "code",
      "source": [
        "# Defining the tuple\n",
        "numbers = (10, 20, 5, 15)\n",
        "\n",
        "# Finding the minimum number using min() function\n",
        "minimum = min(numbers)\n",
        "\n",
        "# Printing the result\n",
        "print(minimum)"
      ],
      "metadata": {
        "id": "5ujHnUNHkXcZ",
        "colab": {
          "base_uri": "https://localhost:8080/"
        },
        "outputId": "17bf3021-641f-49b6-e8e4-b06d0ef42c57"
      },
      "execution_count": 80,
      "outputs": [
        {
          "output_type": "stream",
          "name": "stdout",
          "text": [
            "5\n"
          ]
        }
      ]
    },
    {
      "cell_type": "markdown",
      "source": [
        "**14. Write a code to find the index of the element \"cat\" in the tuple ('dog', 'cat', 'rabbit').**"
      ],
      "metadata": {
        "id": "Iq7wGAoxkX7e"
      }
    },
    {
      "cell_type": "code",
      "source": [
        "# Defining the tuple\n",
        "animals = ('dog', 'cat', 'rabbit')\n",
        "\n",
        "# Finding the index of 'cat' using index() method\n",
        "index = animals.index('cat')\n",
        "\n",
        "# Printing the result\n",
        "print(index)"
      ],
      "metadata": {
        "colab": {
          "base_uri": "https://localhost:8080/"
        },
        "id": "56GR5VQDPtX2",
        "outputId": "895d051f-ae40-4e78-ffdd-e7ebe6a56e2e"
      },
      "execution_count": 83,
      "outputs": [
        {
          "output_type": "stream",
          "name": "stdout",
          "text": [
            "1\n"
          ]
        }
      ]
    },
    {
      "cell_type": "markdown",
      "source": [
        "**15. Write a code to create a tuple containing three different fruits and check if \"kiwi\" is in it.**"
      ],
      "metadata": {
        "id": "h9-4SC7bkdZ3"
      }
    },
    {
      "cell_type": "code",
      "source": [
        "# Creating a tuple with fruits\n",
        "fruits = ('apple', 'banana', 'orange')\n",
        "\n",
        "# Checking if 'kiwi' is in the tuple\n",
        "is_kiwi_in_tuple = 'kiwi' in fruits\n",
        "\n",
        "# Printing the result\n",
        "print(is_kiwi_in_tuple)"
      ],
      "metadata": {
        "id": "vPhyRxYAkhVg",
        "colab": {
          "base_uri": "https://localhost:8080/"
        },
        "outputId": "8b570c5f-7e41-41cc-fe9f-5456452b52ae"
      },
      "execution_count": 86,
      "outputs": [
        {
          "output_type": "stream",
          "name": "stdout",
          "text": [
            "False\n"
          ]
        }
      ]
    },
    {
      "cell_type": "markdown",
      "source": [
        "**16. Write a code to create a set with the elements 'a', 'b', 'c' and print it.**"
      ],
      "metadata": {
        "id": "hbm_CaaGkk6d"
      }
    },
    {
      "cell_type": "code",
      "source": [
        "# Creating a set with element 'a','b','c',\n",
        "# Sets are unordered collections of unique items in python\n",
        "my_set = {'a','b','c'}\n",
        "\n",
        "# Printing the set\n",
        "# The output may show the elements in any order, like {'a','b','c'},\n",
        "# {'a,'c','b'}, {'b','a','c'}, {'b','c','a'}, {'c','a','b'}, or {'c','b','a'},\n",
        "print(my_set)"
      ],
      "metadata": {
        "colab": {
          "base_uri": "https://localhost:8080/"
        },
        "id": "g3RheROWQ9_e",
        "outputId": "a5b903f9-e189-405e-aa4b-cbbd1e4266b0"
      },
      "execution_count": 103,
      "outputs": [
        {
          "output_type": "stream",
          "name": "stdout",
          "text": [
            "{'a', 'c', 'b'}\n"
          ]
        }
      ]
    },
    {
      "cell_type": "markdown",
      "source": [
        "**17. Write a code to clear all elements from the set {1, 2, 3, 4, 5}.**"
      ],
      "metadata": {
        "id": "WQXANBiLkor5"
      }
    },
    {
      "cell_type": "code",
      "source": [
        "# Creating a set with numbers\n",
        "my_set = {1, 2, 3, 4, 5}\n",
        "\n",
        "# Clearing all elements from the set\n",
        "my_set.clear()\n",
        "\n",
        "# Printing the set after clearing\n",
        "print(my_set)"
      ],
      "metadata": {
        "id": "mGSilPoVkr9J",
        "colab": {
          "base_uri": "https://localhost:8080/"
        },
        "outputId": "24efc938-ee23-4ebc-fea3-0308d95170cc"
      },
      "execution_count": 89,
      "outputs": [
        {
          "output_type": "stream",
          "name": "stdout",
          "text": [
            "set()\n"
          ]
        }
      ]
    },
    {
      "cell_type": "markdown",
      "source": [
        "**18. Write a code to remove the element 4 from the set {1, 2, 3, 4}.**"
      ],
      "metadata": {
        "id": "PAnQ17zFksZX"
      }
    },
    {
      "cell_type": "code",
      "source": [
        "# Creating a set with elements\n",
        "my_set = {1, 2, 3, 4}\n",
        "\n",
        "# Removing the element 4 from the set\n",
        "my_set.remove(4)\n",
        "\n",
        "# Printing the set after removing\n",
        "print(my_set)"
      ],
      "metadata": {
        "id": "B9EXAkgykw0J",
        "colab": {
          "base_uri": "https://localhost:8080/"
        },
        "outputId": "a2070d1f-cfa9-415e-8639-35d7952da838"
      },
      "execution_count": 90,
      "outputs": [
        {
          "output_type": "stream",
          "name": "stdout",
          "text": [
            "{1, 2, 3}\n"
          ]
        }
      ]
    },
    {
      "cell_type": "markdown",
      "source": [
        "**19. Write a code to find the union of two sets {1, 2, 3} and {3, 4, 5}.**"
      ],
      "metadata": {
        "id": "grzway64kxQU"
      }
    },
    {
      "cell_type": "code",
      "source": [
        "# Defining two sets\n",
        "set1 = {1, 2, 3}\n",
        "set2 = {3, 4, 5}\n",
        "\n",
        "# Finding the union of the sets using union() method\n",
        "union_set = set1.union(set2)\n",
        "\n",
        "# Printing the result\n",
        "print(union_set)"
      ],
      "metadata": {
        "id": "UzY7ldsdk0mx",
        "colab": {
          "base_uri": "https://localhost:8080/"
        },
        "outputId": "ef154155-8ce0-47dc-d053-f641b2a4c773"
      },
      "execution_count": 91,
      "outputs": [
        {
          "output_type": "stream",
          "name": "stdout",
          "text": [
            "{1, 2, 3, 4, 5}\n"
          ]
        }
      ]
    },
    {
      "cell_type": "markdown",
      "source": [
        "**20. Write a code to find the intersection of two sets {1, 2, 3} and {2, 3, 4}.**"
      ],
      "metadata": {
        "id": "VOJKbO9rk1Kn"
      }
    },
    {
      "cell_type": "code",
      "source": [
        "# Defining two sets\n",
        "set1 = {1, 2, 3}\n",
        "set2 = {2, 3, 4}\n",
        "\n",
        "# Finding the intersection of the sets using intersection() method\n",
        "intersection_set = set1.intersection(set2)\n",
        "\n",
        "# Printing the result\n",
        "print(intersection_set)"
      ],
      "metadata": {
        "id": "st7PmK-Tk402",
        "colab": {
          "base_uri": "https://localhost:8080/"
        },
        "outputId": "f286ba47-483e-44fd-bdb3-c76fa8f66cf4"
      },
      "execution_count": 92,
      "outputs": [
        {
          "output_type": "stream",
          "name": "stdout",
          "text": [
            "{2, 3}\n"
          ]
        }
      ]
    },
    {
      "cell_type": "markdown",
      "source": [
        "**21. Write a code to create a dictionary with the keys \"name\", \"age\", and \"city\", and print it.**"
      ],
      "metadata": {
        "id": "9eWPIRAdk6AG"
      }
    },
    {
      "cell_type": "code",
      "source": [
        "# Creating a dictionary with keys and values\n",
        "person = {\n",
        "    \"name\": \"Vikram Sharma\",\n",
        "    \"age\": 22,\n",
        "    \"city\": \"India\"\n",
        "}\n",
        "\n",
        "# Printing the dictionary\n",
        "print(person)"
      ],
      "metadata": {
        "id": "7zk6eIO1lDio",
        "colab": {
          "base_uri": "https://localhost:8080/"
        },
        "outputId": "deef8595-462f-4d67-c1bb-59ddb44418e6"
      },
      "execution_count": 94,
      "outputs": [
        {
          "output_type": "stream",
          "name": "stdout",
          "text": [
            "{'name': 'Vikram Sharma', 'age': 22, 'city': 'India'}\n"
          ]
        }
      ]
    },
    {
      "cell_type": "markdown",
      "source": [
        "**22. Write a code to add a new key-value pair \"country\": \"USA\" to the dictionary {'name': 'John', 'age': 25}.**"
      ],
      "metadata": {
        "id": "xbJTAXWAlD-i"
      }
    },
    {
      "cell_type": "code",
      "source": [
        "# Defining the original dictionary\n",
        "person = {'name': 'John', 'age': 25}\n",
        "\n",
        "# Adding a new key-value pair\n",
        "person['country'] = 'USA'\n",
        "\n",
        "# Printing the updated dictionary\n",
        "print(person)"
      ],
      "metadata": {
        "colab": {
          "base_uri": "https://localhost:8080/"
        },
        "id": "U4-9LW8UUj9f",
        "outputId": "d3588d32-e482-46f6-ece6-ce7b49009d89"
      },
      "execution_count": 98,
      "outputs": [
        {
          "output_type": "stream",
          "name": "stdout",
          "text": [
            "{'name': 'John', 'age': 25, 'country': 'USA'}\n"
          ]
        }
      ]
    },
    {
      "cell_type": "markdown",
      "source": [
        "**23. Write a code to access the value associated with the key \"name\" in the dictionary {'name': 'Alice', 'age': 30}.**"
      ],
      "metadata": {
        "id": "PgQNSpYplMGj"
      }
    },
    {
      "cell_type": "code",
      "source": [
        "# Defining the dictionary\n",
        "person = {'name': 'Alice', 'age': 30}\n",
        "\n",
        "# Accessing the value associated with the key 'name'\n",
        "name_value = person['name']\n",
        "\n",
        "# Printing the result\n",
        "print(name_value)"
      ],
      "metadata": {
        "id": "XXJRDB6GlOLq",
        "colab": {
          "base_uri": "https://localhost:8080/"
        },
        "outputId": "c7a5839c-dce7-470c-fce9-0623ec039754"
      },
      "execution_count": 99,
      "outputs": [
        {
          "output_type": "stream",
          "name": "stdout",
          "text": [
            "Alice\n"
          ]
        }
      ]
    },
    {
      "cell_type": "markdown",
      "source": [
        "**24. Write a code to remove the key \"age\" from the dictionary {'name': 'Bob', 'age': 22, 'city': 'New York'}.**"
      ],
      "metadata": {
        "id": "Qhg9dLWmlOm1"
      }
    },
    {
      "cell_type": "code",
      "source": [
        "# Defining the dictionary\n",
        "person = {'name': 'Bob', 'age': 22, 'city': 'New York'}\n",
        "\n",
        "# Removing the key 'age' from the dictionary\n",
        "person.pop('age')\n",
        "\n",
        "# Printing the updated dictionary\n",
        "print(person)"
      ],
      "metadata": {
        "id": "FGpkgipJlSa0",
        "colab": {
          "base_uri": "https://localhost:8080/"
        },
        "outputId": "32e999ba-4e43-463b-ed39-f6c652ea9503"
      },
      "execution_count": 103,
      "outputs": [
        {
          "output_type": "stream",
          "name": "stdout",
          "text": [
            "{'name': 'Bob', 'city': 'New York'}\n"
          ]
        }
      ]
    },
    {
      "cell_type": "markdown",
      "source": [
        "**25. Write a code to check if the key \"city\" exists in the dictionary {'name': 'Alice', 'city': 'Paris'}.**"
      ],
      "metadata": {
        "id": "vW385ixwlS6U"
      }
    },
    {
      "cell_type": "code",
      "source": [
        "# Definig the dictionary\n",
        "person = {'name': 'Alice', 'city': 'Paris'}\n",
        "\n",
        "# Checking if the key 'city' exists in the dictionary\n",
        "city_exists = 'city' in person\n",
        "\n",
        "# Printing the result\n",
        "print(city_exists)"
      ],
      "metadata": {
        "id": "2Yio4oG_lWkD",
        "colab": {
          "base_uri": "https://localhost:8080/"
        },
        "outputId": "8c536f6c-68f0-4e50-e291-9a17e57cf2fa"
      },
      "execution_count": 104,
      "outputs": [
        {
          "output_type": "stream",
          "name": "stdout",
          "text": [
            "True\n"
          ]
        }
      ]
    },
    {
      "cell_type": "markdown",
      "source": [
        "**26. Write a code to create a list, a tuple, and a dictionary, and print them all.**"
      ],
      "metadata": {
        "id": "_4R5Ly_rlZA4"
      }
    },
    {
      "cell_type": "code",
      "source": [
        "# Creating a List\n",
        "my_list = [1, 2, 3, 4, 5]\n",
        "\n",
        "# Creating a tuple\n",
        "my_tuple = (10, 20, 30, 40, 50)\n",
        "\n",
        "# Creating a dictionary\n",
        "my_dict = {\n",
        "    \"name\": \"Vikram\",\n",
        "    \"age\": 22,\n",
        "    \"city\": \"India\"\n",
        "}\n",
        "# printing List, tuple and dictionary\n",
        "print(my_list)\n",
        "print(my_tuple)\n",
        "print(my_dict)"
      ],
      "metadata": {
        "id": "IWOgiRPClbD0",
        "colab": {
          "base_uri": "https://localhost:8080/"
        },
        "outputId": "98f16a36-4cc0-404d-fb4a-9d42c4be8a0b"
      },
      "execution_count": 106,
      "outputs": [
        {
          "output_type": "stream",
          "name": "stdout",
          "text": [
            "[1, 2, 3, 4, 5]\n",
            "(10, 20, 30, 40, 50)\n",
            "{'name': 'Vikram', 'age': 22, 'city': 'India'}\n"
          ]
        }
      ]
    },
    {
      "cell_type": "markdown",
      "source": [
        "**27. Write a code to create a list of 5 random numbers between 1 and 100, sort it in ascending order, and print the\n",
        "result.(replaced)**"
      ],
      "metadata": {
        "id": "q0_AWqMPlbue"
      }
    },
    {
      "cell_type": "code",
      "source": [
        "import random\n",
        "\n",
        "# Creating a list of 5 random numbers between 1 to 100\n",
        "random_numbers = random.sample(range(1,101), 5)\n",
        "\n",
        "# Sorting the list in acending order\n",
        "random_numbers.sort()\n",
        "# Creating a list of 5 random numbers between 1 to 100\n",
        "\n",
        "random_numbers = random.sample(range(1,101), 5)\n",
        "\n",
        "# Sorting the list in acending order\n",
        "random_numbers.sort()\n",
        "\n",
        "# Printing the sorted list\n",
        "print(\"random_numbers:\",random_numbers)"
      ],
      "metadata": {
        "id": "INnA7pxmlgjA",
        "colab": {
          "base_uri": "https://localhost:8080/"
        },
        "outputId": "ed85140f-703e-4f91-96be-bd67f20b6dc7"
      },
      "execution_count": 115,
      "outputs": [
        {
          "output_type": "stream",
          "name": "stdout",
          "text": [
            "random_numbers: [11, 30, 68, 73, 74]\n"
          ]
        }
      ]
    },
    {
      "cell_type": "markdown",
      "source": [
        "**28. Write a code to create a list with strings and print the element at the third index.**"
      ],
      "metadata": {
        "id": "hS7OEHL5lg_t"
      }
    },
    {
      "cell_type": "code",
      "source": [
        "# Creating a list with string elements\n",
        "fruits = [\"apple\",\"banana\",\"cherry\",\"orange\",\"grape\"]\n",
        "\n",
        "# Printing the element at the third index (Indexing starts from 0)\n",
        "print(\"This third index is:\", fruits[3])"
      ],
      "metadata": {
        "id": "gIT_OZIAlkOc",
        "colab": {
          "base_uri": "https://localhost:8080/"
        },
        "outputId": "43c8c3c1-38a6-44b2-9e0d-a1e1b5d38ab1"
      },
      "execution_count": 126,
      "outputs": [
        {
          "output_type": "stream",
          "name": "stdout",
          "text": [
            "This third index is: orange\n"
          ]
        }
      ]
    },
    {
      "cell_type": "markdown",
      "source": [
        "**29. Write a code to combine two dictionaries into one and print the result.**"
      ],
      "metadata": {
        "id": "-X9AZzkdll-M"
      }
    },
    {
      "cell_type": "code",
      "source": [
        "# Defining two dictionaries\n",
        "dict1 = {'a': 1, 'b': 2}\n",
        "dict2 = {'c': 3, 'd': 4}\n",
        "\n",
        "# Combining the dictionaries using the update() method\n",
        "dict1.update(dict2)\n",
        "\n",
        "# printing the combined dictionary\n",
        "print(\"After combining two (dict1 & dict2) dictionary :\", dict1)"
      ],
      "metadata": {
        "id": "eNKupIcrlrK2",
        "colab": {
          "base_uri": "https://localhost:8080/"
        },
        "outputId": "cdd3bcb1-30f6-441d-ccfe-616eba01ea6f"
      },
      "execution_count": 108,
      "outputs": [
        {
          "output_type": "stream",
          "name": "stdout",
          "text": [
            "After combining two (dict1 & dict2) dictionary : {'a': 1, 'b': 2, 'c': 3, 'd': 4}\n"
          ]
        }
      ]
    },
    {
      "cell_type": "markdown",
      "source": [
        "**30. Write a code to convert a list of strings into a set.**"
      ],
      "metadata": {
        "id": "lyMQ36Nblti1"
      }
    },
    {
      "cell_type": "code",
      "source": [
        "# Defining a list of string\n",
        "string_list = [\"apple\", \"banana\", \"cherry\", \"date\"]\n",
        "\n",
        "# Converting the list to a set using set() function\n",
        "string_set = set(string_list)\n",
        "\n",
        "# Printing the set\n",
        "print(\"After converting list of string into set:\", string_set)"
      ],
      "metadata": {
        "id": "VfRsFaH7lv7I",
        "colab": {
          "base_uri": "https://localhost:8080/"
        },
        "outputId": "97ac425d-3c19-42ba-b951-2b49ab85c1fd"
      },
      "execution_count": 128,
      "outputs": [
        {
          "output_type": "stream",
          "name": "stdout",
          "text": [
            "After converting list of string into set: {'cherry', 'date', 'apple', 'banana'}\n"
          ]
        }
      ]
    }
  ]
}