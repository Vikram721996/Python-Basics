{
  "nbformat": 4,
  "nbformat_minor": 0,
  "metadata": {
    "colab": {
      "provenance": []
    },
    "kernelspec": {
      "name": "python3",
      "display_name": "Python 3"
    },
    "language_info": {
      "name": "python"
    }
  },
  "cells": [
    {
      "cell_type": "markdown",
      "source": [
        "# **Files, exceptional handling, logging and memory management Questions**\n",
        "\n"
      ],
      "metadata": {
        "id": "X-2W6Nw1jxPL"
      }
    },
    {
      "cell_type": "markdown",
      "source": [
        "# **Assignment Questions**"
      ],
      "metadata": {
        "id": "nbYgXf_gpZK_"
      }
    },
    {
      "cell_type": "markdown",
      "source": [
        "**1. What is the difference between interpreted and compiled languages?**"
      ],
      "metadata": {
        "id": "bP7yC0fRj2zK"
      }
    },
    {
      "cell_type": "markdown",
      "source": [
        "**Compiled** and **interpreted** languages differ in how they execute code. A **compiled language** uses a compiler to translate the entire source code into machine code before execution, resulting in faster performance at runtime. In contrast, an **interpreted language** relies on an interpreter to execute the code line-by-line at runtime, allowing for more flexibility and easier debugging but generally slower execution."
      ],
      "metadata": {
        "id": "p_A8rWz9VMm0"
      }
    },
    {
      "cell_type": "markdown",
      "source": [
        "**2. What is exception handling in Python?**"
      ],
      "metadata": {
        "id": "KrF7gfcrkCqP"
      }
    },
    {
      "cell_type": "markdown",
      "source": [
        "**Exception handling** in Python is a mechanism that allows you to gracefully handle errors that occur during the execution of a program. Instead of crashing the program, Python lets you catch and respond to exceptions (errors) using the **try, except, else, and finally blocks.**"
      ],
      "metadata": {
        "id": "IDYypRC6VOF4"
      }
    },
    {
      "cell_type": "markdown",
      "source": [
        "**3. What is the purpose of the finally block in exception handling?**"
      ],
      "metadata": {
        "id": "LpW3svqykJSL"
      }
    },
    {
      "cell_type": "markdown",
      "source": [
        "The **finally** block in Python's exception handling is used to define a block of code that will be executed regardless of whether an exception is raised or not."
      ],
      "metadata": {
        "id": "D5PMTGyTVw1u"
      }
    },
    {
      "cell_type": "markdown",
      "source": [
        "**4. What is logging in Python?**"
      ],
      "metadata": {
        "id": "Y3QWAeWUkODY"
      }
    },
    {
      "cell_type": "markdown",
      "source": [
        "**Logging** in Python is the process of tracking events that happen when your code runs. It's a way to report status, errors, and information for debugging and monitoring, without using print() statements."
      ],
      "metadata": {
        "id": "yG4TmoHtV8-P"
      }
    },
    {
      "cell_type": "markdown",
      "source": [
        "**5. What is the significance of the __del __ method in Python?**"
      ],
      "metadata": {
        "id": "cQlW48sIkU07"
      }
    },
    {
      "cell_type": "markdown",
      "source": [
        "The **__del __** method in Python is known as the destructor method. It's called automatically when an object is about to be destroyed—i.e., when there are no more references to it."
      ],
      "metadata": {
        "id": "OEypFaLQWLnb"
      }
    },
    {
      "cell_type": "markdown",
      "source": [
        "**6. What is the difference between import and from ... import in Python?**"
      ],
      "metadata": {
        "id": "V1S8ZSKqkdYC"
      }
    },
    {
      "cell_type": "markdown",
      "source": [
        "The **import statement** is used to load an entire module into the current namespace, allowing access to its **functions, classes, or variables** using dot notation **(module_name.item).** In contrast, the **from ... import** statement is used to import specific attributes (such as **functions, classes, or variables**) from a module directly into the current namespace, enabling their use without prefixing them with the module name."
      ],
      "metadata": {
        "id": "V7d6-FgxWRKo"
      }
    },
    {
      "cell_type": "markdown",
      "source": [
        "**7. How can you handle multiple exceptions in Python?**"
      ],
      "metadata": {
        "id": "P_-Edi8lkkbl"
      }
    },
    {
      "cell_type": "markdown",
      "source": [
        "In Python, **multiple exceptions** can be handled using multiple except blocks following a single try block. Each except block can catch a specific type of exception and handle it accordingly. Alternatively, a single except block can handle multiple exception types by grouping them in a tuple. Python also allows the use of a general except Exception block to catch all exceptions, though it should be used cautiously to avoid masking unexpected errors. Additionally, the else block can be used to define code that runs only if no exception occurs, and the finally block defines code that executes regardless of whether an exception was raised or not."
      ],
      "metadata": {
        "id": "SQ-TDMscXVSj"
      }
    },
    {
      "cell_type": "markdown",
      "source": [
        "**8. What is the purpose of the with statement when handling files in Python?**"
      ],
      "metadata": {
        "id": "EG4gaOaHkp8s"
      }
    },
    {
      "cell_type": "markdown",
      "source": [
        "The **with statement** is used to simplify the process of working with files and other resources that need to be properly managed. When handling files, the with statement ensures that the file is automatically closed after its block of code is executed, even if an exception occurs. This promotes cleaner, safer, and more readable code by eliminating the need to explicitly call file.close()."
      ],
      "metadata": {
        "id": "LxJa1LgtX3E8"
      }
    },
    {
      "cell_type": "markdown",
      "source": [
        "**9. What is the difference between multithreading and multiprocessing?**"
      ],
      "metadata": {
        "id": "kk9euBp2kxrt"
      }
    },
    {
      "cell_type": "markdown",
      "source": [
        "**Multithreading** involves running multiple threads (smaller units of a process) within a single process. These threads share the same memory space and can execute independently, but are managed by the same operating system process. Multithreading is ideal for I/O-bound tasks (like reading files, network operations, etc.) since it allows the program to handle multiple tasks concurrently without requiring multiple processes.\n",
        "\n",
        "On the other hand,\n",
        "\n",
        "**Multiprocessing** involves running multiple processes, each with its own memory space and resources. These processes run independently and do not share memory, which helps avoid issues related to the Global Interpreter Lock (GIL) in Python. Multiprocessing is better suited for CPU-bound tasks (like complex calculations) because each process can run on a separate CPU core, enabling true parallelism."
      ],
      "metadata": {
        "id": "w9vXY63OYORz"
      }
    },
    {
      "cell_type": "markdown",
      "source": [
        "**10. What are the advantages of using logging in a program?**"
      ],
      "metadata": {
        "id": "Z5Tkqjd7k12o"
      }
    },
    {
      "cell_type": "markdown",
      "source": [
        "Advantages of using logging in a program\n",
        "\n",
        "* Persisting and storing log messages for future reference (in files, databases, etc.).\n",
        "\n",
        "* Categorizing messages with severity levels (DEBUG, INFO, ERROR, etc.) for better filtering.\n",
        "\n",
        "* Easier debugging by providing detailed error and event information.\n",
        "\n",
        "* Separation of concerns by keeping application logic separate from output handling.\n",
        "\n",
        "* Performance monitoring by tracking task execution times and resource usage.\n",
        "\n",
        "* Error tracking in production without cluttering the interface.\n",
        "\n",
        "* Remote monitoring by sending logs to remote systems for real-time tracking.\n",
        "\n",
        "* Security and compliance by auditing critical application events."
      ],
      "metadata": {
        "id": "B4AipDe-ZW6f"
      }
    },
    {
      "cell_type": "markdown",
      "source": [
        "**11. What is memory management in Python?**"
      ],
      "metadata": {
        "id": "5xqjixMak6dq"
      }
    },
    {
      "cell_type": "markdown",
      "source": [
        "**Memory management** in Python refers to the process of efficiently allocating, using, and freeing memory during the execution of a Python program. Python handles memory automatically, meaning that developers do not need to manually manage memory allocation and deallocation. However, Python uses several techniques to optimize memory usage, including automatic garbage collection and reference counting."
      ],
      "metadata": {
        "id": "r8rDYRKfemnD"
      }
    },
    {
      "cell_type": "markdown",
      "source": [
        "**12. What are the basic steps involved in exception handling in Python?**"
      ],
      "metadata": {
        "id": "cUPoqlkXk_Lu"
      }
    },
    {
      "cell_type": "markdown",
      "source": [
        "**Exception handling** in Python involves using **try, except, else, and finally** blocks to manage errors gracefully.\n",
        "\n",
        "**Basic Steps:**\n",
        "\n",
        "**try block:** Code that may raise an exception goes here.\n",
        "\n",
        "**except block:** Catches and handles specific or general exceptions.\n",
        "\n",
        "**else block (optional):** Executes if no exception occurs.\n",
        "\n",
        "**finally block (optional):** Executes no matter what (for cleanup)."
      ],
      "metadata": {
        "id": "HIksncWHj1Z-"
      }
    },
    {
      "cell_type": "markdown",
      "source": [
        "**13. Why is memory management important in Python?**"
      ],
      "metadata": {
        "id": "hR0rc9vVlEgG"
      }
    },
    {
      "cell_type": "markdown",
      "source": [
        "**Memory management in Python** is crucial for ensuring efficient use of system resources **(RAM)** during the execution of a program. It helps avoid issues like memory leaks, slow performance, and excessive memory consumption, especially in large applications. Python automatically handles many aspects of memory management, but understanding how it works is vital for writing optimized and efficient code."
      ],
      "metadata": {
        "id": "aKxEe6P6u016"
      }
    },
    {
      "cell_type": "markdown",
      "source": [
        "**14. What is the role of try and except in exception handling?**"
      ],
      "metadata": {
        "id": "BBwOKEfxlIon"
      }
    },
    {
      "cell_type": "markdown",
      "source": [
        "The **try** and **except** blocks are fundamental components of Python's exception handling mechanism. They work together to allow developers to handle potential errors gracefully, ensuring that the program does not crash unexpectedly when encountering an exception."
      ],
      "metadata": {
        "id": "ZM1rPaZXvHjh"
      }
    },
    {
      "cell_type": "markdown",
      "source": [
        "**15. How does Python's garbage collection system work?**"
      ],
      "metadata": {
        "id": "a86SgnZslQL8"
      }
    },
    {
      "cell_type": "markdown",
      "source": [
        "**Garbage collection (GC)** in Python is the automatic process of reclaiming memory by identifying and freeing objects that are no longer in use by the program. Python uses automatic memory management to help manage the lifecycle of objects and prevent memory leaks."
      ],
      "metadata": {
        "id": "sUmzPoEVvYNF"
      }
    },
    {
      "cell_type": "markdown",
      "source": [
        "**16. What is the purpose of the else block in exception handling?**"
      ],
      "metadata": {
        "id": "qHlCdy8nlWGB"
      }
    },
    {
      "cell_type": "markdown",
      "source": [
        "The **else block** in Python's exception handling mechanism is used to define a block of code that should be executed only if no exception was raised in the associated try block. It allows you to specify behavior that should occur when the try block executes successfully without encountering any errors."
      ],
      "metadata": {
        "id": "S1lG6juVohMo"
      }
    },
    {
      "cell_type": "markdown",
      "source": [
        "**17. What are the common logging levels in Python?**"
      ],
      "metadata": {
        "id": "cGQ57rkLlbY0"
      }
    },
    {
      "cell_type": "markdown",
      "source": [
        "**Choosing the Appropriate Logging Level:**\n",
        "\n",
        "Use **DEBUG** for detailed debugging information during development.\n",
        "\n",
        "Use **INFO** for general progress and status updates.\n",
        "\n",
        "Use **WARNING** for potential problems that are not yet errors.\n",
        "\n",
        "Use **ERROR** for actual errors that prevent certain operations.\n",
        "\n",
        "Use **CRITICAL** for catastrophic failures that require immediate attention."
      ],
      "metadata": {
        "id": "JGIlYluNozA7"
      }
    },
    {
      "cell_type": "markdown",
      "source": [
        "**18. What is the difference between os.fork() and multiprocessing in Python?**"
      ],
      "metadata": {
        "id": "1X6R773wlhNL"
      }
    },
    {
      "cell_type": "markdown",
      "source": [
        "os.fork() and the multiprocessing module are used to create new processes in Python, but they differ in terms of usability, portability, and functionality."
      ],
      "metadata": {
        "id": "LbXjGTFHptMW"
      }
    },
    {
      "cell_type": "markdown",
      "source": [
        "**19.  What is the importance of closing a file in Python?**"
      ],
      "metadata": {
        "id": "yrPqkba0lnAh"
      }
    },
    {
      "cell_type": "markdown",
      "source": [
        "**Closing a file in Python** is crucial because it ensures that system resources are properly released, and any pending data is saved correctly to the file. This is typically done using the .close() method or automatically with a with statement (context manager)."
      ],
      "metadata": {
        "id": "x_elOYpnteSQ"
      }
    },
    {
      "cell_type": "markdown",
      "source": [
        "**20. What is the difference between file.read() and file.readline() in Python?**"
      ],
      "metadata": {
        "id": "-6c2vDlXmKpZ"
      }
    },
    {
      "cell_type": "markdown",
      "source": [
        "The **file.read()** method in Python reads the entire content of a file as a single string, or up to a specified number of characters if a parameter is provided.\n",
        "\n",
        "In contrast, the **file.readline()** method reads one line from the file at a time, including the newline character (\\n) at the end of the line."
      ],
      "metadata": {
        "id": "iZY2ASyatuIA"
      }
    },
    {
      "cell_type": "markdown",
      "source": [
        "**21. What is the logging module in Python used for?**"
      ],
      "metadata": {
        "id": "RzSS7HfumQmq"
      }
    },
    {
      "cell_type": "markdown",
      "source": [
        "The **logging module** in Python is used to provide a flexible framework for writing log messages to various outputs, such as the console, files, or remote servers. It helps track events, errors, and execution flow during the program's runtime, making it easier to debug and monitor."
      ],
      "metadata": {
        "id": "QFV8xW6Ot5Pr"
      }
    },
    {
      "cell_type": "markdown",
      "source": [
        "**22. What is the os module in Python used for in file handling?**"
      ],
      "metadata": {
        "id": "qJA2rRvzmVCN"
      }
    },
    {
      "cell_type": "markdown",
      "source": [
        "The **os module** in Python provides a way to interact with the operating system and perform file system-related tasks, such as working with files and directories. It allows for platform-independent file handling, giving you tools to manipulate files, directories, and file paths in a flexible manner."
      ],
      "metadata": {
        "id": "E_VvIHmqt_H-"
      }
    },
    {
      "cell_type": "markdown",
      "source": [
        "**23. What are the challenges associated with memory management in Python?**"
      ],
      "metadata": {
        "id": "mmIRDlWMmcZi"
      }
    },
    {
      "cell_type": "markdown",
      "source": [
        "**Memory management in Python** involves efficient allocation and deallocation of memory during program execution. While Python handles many aspects of memory management automatically, it still faces challenges, especially when dealing with large-scale applications or complex data structures."
      ],
      "metadata": {
        "id": "C3RbSRi1uGBW"
      }
    },
    {
      "cell_type": "markdown",
      "source": [
        "**24. How do you raise an exception manually in Python?**"
      ],
      "metadata": {
        "id": "ZneJdH2HmgX8"
      }
    },
    {
      "cell_type": "markdown",
      "source": [
        "We can raise an **exception manually** using the raise keyword. This allows you to trigger an exception explicitly in your code when a specific condition occurs, facilitating better error handling or custom exceptions."
      ],
      "metadata": {
        "id": "z9wP3uveuS0A"
      }
    },
    {
      "cell_type": "markdown",
      "source": [
        "**25. Why is it important to use multithreading in certain applications?**"
      ],
      "metadata": {
        "id": "I41P5qxRmlTV"
      }
    },
    {
      "cell_type": "markdown",
      "source": [
        "**Multithreading** is a technique used in programming to perform multiple tasks concurrently within a single process. It allows for parallel execution of tasks, which can significantly improve the performance of applications that need to handle multiple operations at the same time, especially in I/O-bound or user-interactive tasks."
      ],
      "metadata": {
        "id": "4kQUFBxhudXf"
      }
    },
    {
      "cell_type": "markdown",
      "source": [
        "# **Practical Questions**"
      ],
      "metadata": {
        "id": "LKtA0ZOYmtSe"
      }
    },
    {
      "cell_type": "markdown",
      "source": [
        "**1. How can you open a file for writing in Python and write a string to it?**"
      ],
      "metadata": {
        "id": "IMZR8nXWmvz8"
      }
    },
    {
      "cell_type": "code",
      "source": [
        "# Open a file named 'myfile.txt' in write mode ('w')\n",
        "# If the file does not exist, it will be created\n",
        "# If it already exists, its content will be erased\n",
        "file = open(\"myfile.txt\", \"w\")\n",
        "\n",
        "# Write a string to the file\n",
        "file.write(\"Hello, world!\")\n",
        "\n",
        "# Always close the file after you're done to free up system resources\n",
        "file.close()"
      ],
      "metadata": {
        "id": "wgoAOrusNp4i"
      },
      "execution_count": 65,
      "outputs": []
    },
    {
      "cell_type": "markdown",
      "source": [
        "**2. Write a Python program to read the contents of a file and print each line?**"
      ],
      "metadata": {
        "id": "q1B4F4o5m4nL"
      }
    },
    {
      "cell_type": "code",
      "source": [
        "# Open the file in read mode ('r')\n",
        "# Make sure the file 'myfile.txt' exists in the same directory\n",
        "file = open(\"myfile.txt\", \"r\")\n",
        "\n",
        "# Loop through each line in the file\n",
        "for line in file:\n",
        "    # Print each line (lines already have a newline character at the end)\n",
        "    print(line, end=\"\")  # 'end=\"\"' avoids adding extra newlines\n",
        "\n",
        "# Close the file after reading\n",
        "file.close()"
      ],
      "metadata": {
        "colab": {
          "base_uri": "https://localhost:8080/"
        },
        "id": "0bW4uYIiOaZ2",
        "outputId": "fd23729b-3ccc-4da8-e48a-cc7f17ad7a03"
      },
      "execution_count": 66,
      "outputs": [
        {
          "output_type": "stream",
          "name": "stdout",
          "text": [
            "Hello, World!\n",
            "Hello, Vikram\n",
            "Hello, All....!"
          ]
        }
      ]
    },
    {
      "cell_type": "markdown",
      "source": [
        "**3. How would you handle a case where the file doesn't exist while trying to open it for reading?**"
      ],
      "metadata": {
        "id": "8Xn73dPwm8_o"
      }
    },
    {
      "cell_type": "code",
      "source": [
        "try:\n",
        "    # Try to open the file in read mode\n",
        "    file = open(\"myfile.txt\", \"r\")\n",
        "\n",
        "    # Read and print each line\n",
        "    for line in file:\n",
        "        print(line, end=\"\")  # 'end=\"\"' prevents extra newlines\n",
        "\n",
        "    # Close the file after reading\n",
        "    file.close()\n",
        "\n",
        "except FileNotFoundError:\n",
        "    # This block runs if the file doesn't exist\n",
        "    print(\"Error: The file 'myfile.txt' was not found.\")"
      ],
      "metadata": {
        "colab": {
          "base_uri": "https://localhost:8080/"
        },
        "id": "vZel_1CEPNQo",
        "outputId": "7ec22b86-b5ec-4730-c152-891da013daa4"
      },
      "execution_count": 67,
      "outputs": [
        {
          "output_type": "stream",
          "name": "stdout",
          "text": [
            "Hello, World!\n",
            "Hello, Vikram\n",
            "Hello, All....!"
          ]
        }
      ]
    },
    {
      "cell_type": "markdown",
      "source": [
        "**4. Write a Python script that reads from one file and writes its content to another file?**"
      ],
      "metadata": {
        "id": "VHS4054inEWr"
      }
    },
    {
      "cell_type": "code",
      "source": [
        "# Define a function that copies content from source_file to destination_file\n",
        "def copy_file(source_file, destination_file):\n",
        "    try:\n",
        "        # Open the source file in read mode\n",
        "        with open(source_file, 'r') as source:\n",
        "            # Open the destination file in write mode\n",
        "            with open(destination_file, 'w') as destination:\n",
        "                # Read each line from source and write to destination\n",
        "                for line in source:\n",
        "                    destination.write(line)\n",
        "    except FileNotFoundError:\n",
        "        # Handle the case where the source file does not exist\n",
        "        print(f\"Error: Source file '{source_file}' not found.\")\n",
        "    except Exception as e:\n",
        "        # Handle any other unexpected errors\n",
        "        print(f\"An error occurred: {e}\")\n",
        "\n",
        "# Example usage: copies content from 'myfile.txt' to 'newfile.txt'\n",
        "copy_file(\"myfile.txt\", \"newfile.txt\")"
      ],
      "metadata": {
        "id": "FXmkusVdQwcv"
      },
      "execution_count": 68,
      "outputs": []
    },
    {
      "cell_type": "markdown",
      "source": [
        "**5. How would you catch and handle division by zero error in Python?**"
      ],
      "metadata": {
        "id": "2nrZKFkOnKrq"
      }
    },
    {
      "cell_type": "code",
      "source": [
        "# Define two numbers\n",
        "numerator = 10\n",
        "denominator = 0  # This will cause a division by zero\n",
        "\n",
        "try:\n",
        "    # Try dividing the numbers\n",
        "    result = numerator / denominator\n",
        "    print(\"Result:\", result)\n",
        "\n",
        "except ZeroDivisionError:\n",
        "    # This block runs if denominator is zero\n",
        "    print(\"Error: Cannot divide by zero.\")\n",
        "\n",
        "# Program continues after handling the error\n",
        "print(\"Program continues running...\")"
      ],
      "metadata": {
        "colab": {
          "base_uri": "https://localhost:8080/"
        },
        "id": "HtiOPhEiQ_u0",
        "outputId": "ecbb754a-a9f8-40d3-d04c-1c9472726353"
      },
      "execution_count": null,
      "outputs": [
        {
          "output_type": "stream",
          "name": "stdout",
          "text": [
            "Error: Cannot divide by zero.\n",
            "Program continues running...\n"
          ]
        }
      ]
    },
    {
      "cell_type": "markdown",
      "source": [
        "**6. Write a Python program that logs an error message to a log file when a division by zero exception occurs?**"
      ],
      "metadata": {
        "id": "EO5C2jmcnRGR"
      }
    },
    {
      "cell_type": "code",
      "source": [
        "import logging\n",
        "\n",
        "# Configure logging\n",
        "logging.basicConfig(filename='error_log.txt', level=logging.ERROR, format='%(asctime)s - %(levelname)s - %(message)s')\n",
        "\n",
        "# Define two numbers\n",
        "numerator = 10\n",
        "denominator = 0  # This will cause a division by zero\n",
        "\n",
        "try:\n",
        "    # Try dividing the numbers\n",
        "    result = numerator / denominator\n",
        "    print(\"Result:\", result)\n",
        "\n",
        "except ZeroDivisionError as e:\n",
        "    # Log the error message to the log file\n",
        "    logging.error(\"Division by zero error: Cannot divide %d by %d\", numerator, denominator)"
      ],
      "metadata": {
        "colab": {
          "base_uri": "https://localhost:8080/"
        },
        "id": "A6sOlvujSTwr",
        "outputId": "63656ab6-f27b-4eed-bbcc-c8597bf31dc0"
      },
      "execution_count": 69,
      "outputs": [
        {
          "output_type": "stream",
          "name": "stderr",
          "text": [
            "ERROR:root:Division by zero error: Cannot divide 10 by 0\n"
          ]
        }
      ]
    },
    {
      "cell_type": "markdown",
      "source": [
        "**7. How do you log information at different levels (INFO, ERROR, WARNING) in Python using the logging module?**"
      ],
      "metadata": {
        "id": "eRgWkURDnWcc"
      }
    },
    {
      "cell_type": "code",
      "source": [
        "import logging\n",
        "\n",
        "# Configure the logging settings\n",
        "logging.basicConfig(level=logging.DEBUG, force=True)\n",
        "\n",
        "# Log an informational message\n",
        "logging.info('This is an info message, something to report.')\n",
        "\n",
        "# Log a warning message\n",
        "logging.warning('This is a warning message, something might be wrong.')\n",
        "\n",
        "# Log an error message\n",
        "logging.error('This is an error message, something went wrong.')"
      ],
      "metadata": {
        "colab": {
          "base_uri": "https://localhost:8080/"
        },
        "id": "hsXlLnjDSePe",
        "outputId": "97ce7978-5b25-4126-ef89-817d52fb2a63"
      },
      "execution_count": 73,
      "outputs": [
        {
          "output_type": "stream",
          "name": "stderr",
          "text": [
            "INFO:root:This is an info message, something to report.\n",
            "WARNING:root:This is a warning message, something might be wrong.\n",
            "ERROR:root:This is an error message, something went wrong.\n"
          ]
        }
      ]
    },
    {
      "cell_type": "markdown",
      "source": [
        "**8. Write a program to handle a file opening error using exception handling?**"
      ],
      "metadata": {
        "id": "K9PiqmYvndL8"
      }
    },
    {
      "cell_type": "code",
      "source": [
        "try:\n",
        "    # Attempt to open a file that may not exist\n",
        "    with open(\"non_existent_file.txt\", \"r\") as file:\n",
        "        content = file.read()\n",
        "        print(content)\n",
        "except FileNotFoundError:\n",
        "    # This block handles the case where the file does not exist\n",
        "    print(\"Error: The file does not exist.\")\n",
        "except PermissionError:\n",
        "    # This block handles the case where the file exists but permission is denied\n",
        "    print(\"Error: You don't have permission to access the file.\")\n",
        "except Exception as e:\n",
        "    # This block catches any other unforeseen exceptions\n",
        "    print(f\"An unexpected error occurred: {e}\")"
      ],
      "metadata": {
        "colab": {
          "base_uri": "https://localhost:8080/"
        },
        "id": "vlDF-opUSlbF",
        "outputId": "456928c9-b19b-45ee-9bdb-a0117cff4a0e"
      },
      "execution_count": 74,
      "outputs": [
        {
          "output_type": "stream",
          "name": "stdout",
          "text": [
            "Error: The file does not exist.\n"
          ]
        }
      ]
    },
    {
      "cell_type": "markdown",
      "source": [
        "**9. How can you read a file line by line and store its content in a list in Python?**"
      ],
      "metadata": {
        "id": "gi6Wl_Wznj2O"
      }
    },
    {
      "cell_type": "code",
      "source": [
        "# Open the file in read mode\n",
        "with open(\"myfile.txt\", \"r\") as file:\n",
        "    # Read the file line by line and store each line in a list\n",
        "    lines = [line.strip() for line in file]\n",
        "\n",
        "# Print the list of lines\n",
        "print(lines)"
      ],
      "metadata": {
        "colab": {
          "base_uri": "https://localhost:8080/"
        },
        "id": "4hT2LExAS3c8",
        "outputId": "d90fa73e-1c07-4932-af51-93ef0da040e6"
      },
      "execution_count": 75,
      "outputs": [
        {
          "output_type": "stream",
          "name": "stdout",
          "text": [
            "['Hello, World!', 'Hello, Vikram', 'Hello, All....!']\n"
          ]
        }
      ]
    },
    {
      "cell_type": "markdown",
      "source": [
        "**10. How can you append data to an existing file in Python?**"
      ],
      "metadata": {
        "id": "AiledYoSnrdL"
      }
    },
    {
      "cell_type": "code",
      "source": [
        "# Open the file in append mode ('a')\n",
        "with open(\"myfile.txt\", \"a\") as file:\n",
        "    # Append a new line of data\n",
        "    file.write(\"This is a new line being appended to the file.\\n\")\n",
        "\n",
        "# The file is automatically closed when the block ends"
      ],
      "metadata": {
        "id": "yVBkwD9ITXXS"
      },
      "execution_count": 78,
      "outputs": []
    },
    {
      "cell_type": "markdown",
      "source": [
        "**11. Write a Python program that uses a try-except block to handle an error when attempting to access a dictionary key that doesn't exist.**"
      ],
      "metadata": {
        "id": "IziRZWzAnxVM"
      }
    },
    {
      "cell_type": "code",
      "source": [
        "# Define a sample dictionary\n",
        "my_dict = {\"name\": \"Alice\", \"age\": 30, \"city\": \"New York\"}\n",
        "\n",
        "# Attempt to access a key that may or may not exist\n",
        "try:\n",
        "    # Trying to access a key that doesn't exist in the dictionary\n",
        "    value = my_dict[\"country\"]  # 'country' key doesn't exist\n",
        "    print(value)\n",
        "except KeyError:\n",
        "    # Handle the case where the key doesn't exist\n",
        "    print(\"Error: The key 'country' does not exist in the dictionary.\")"
      ],
      "metadata": {
        "colab": {
          "base_uri": "https://localhost:8080/"
        },
        "id": "nrSpMrRxTfYy",
        "outputId": "817df941-c5e8-46df-d85f-1357c43873dc"
      },
      "execution_count": 79,
      "outputs": [
        {
          "output_type": "stream",
          "name": "stdout",
          "text": [
            "Error: The key 'country' does not exist in the dictionary.\n"
          ]
        }
      ]
    },
    {
      "cell_type": "markdown",
      "source": [
        "**12. Write a program that demonstrates using multiple except blocks to handle different types of exceptions.**"
      ],
      "metadata": {
        "id": "UlEQcautn89K"
      }
    },
    {
      "cell_type": "code",
      "source": [
        "def demonstrate_multiple_exceptions():\n",
        "    try:\n",
        "        # Ask user to enter a number to divide\n",
        "        num = int(input(\"Enter a number to divide 100 by: \"))\n",
        "        result = 100 / num\n",
        "        print(f\"Result of division is: {result}\")\n",
        "\n",
        "        # Try accessing an index in a list\n",
        "        sample_list = [10, 20, 30]\n",
        "        index = int(input(\"Enter an index to access from [10, 20, 30]: \"))\n",
        "        print(f\"Value at index {index}: {sample_list[index]}\")\n",
        "\n",
        "    except ZeroDivisionError:\n",
        "        print(\"Error: You tried to divide by zero.\")\n",
        "\n",
        "    except ValueError:\n",
        "        print(\"Error: Invalid input. Please enter a valid integer.\")\n",
        "\n",
        "    except IndexError:\n",
        "        print(\"Error: The index you entered is out of range.\")\n",
        "\n",
        "    except Exception as e:\n",
        "        print(f\"An unexpected error occurred: {e}\")\n",
        "\n",
        "# Call the function\n",
        "demonstrate_multiple_exceptions()"
      ],
      "metadata": {
        "colab": {
          "base_uri": "https://localhost:8080/"
        },
        "id": "lnDg9M8WT0eu",
        "outputId": "829acdba-34ce-4d7d-e8aa-fb54eeff4a0a"
      },
      "execution_count": 2,
      "outputs": [
        {
          "output_type": "stream",
          "name": "stdout",
          "text": [
            "Enter a number to divide 100 by: 5\n",
            "Result of division is: 20.0\n",
            "Enter an index to access from [10, 20, 30]: 10\n",
            "Error: The index you entered is out of range.\n"
          ]
        }
      ]
    },
    {
      "cell_type": "markdown",
      "source": [
        "**13. How would you check if a file exists before attempting to read it in Python?**"
      ],
      "metadata": {
        "id": "l230X7FQoGVJ"
      }
    },
    {
      "cell_type": "code",
      "source": [
        "import os\n",
        "\n",
        "file_path = \"myfile.txt\"\n",
        "\n",
        "# Check if the file exists\n",
        "if os.path.exists(file_path):\n",
        "    # If the file exists, open it and read its contents\n",
        "    with open(file_path, \"r\") as file:\n",
        "        content = file.read()\n",
        "        print(content)\n",
        "else:\n",
        "    print(f\"Error: The file '{file_path}' does not exist.\")"
      ],
      "metadata": {
        "colab": {
          "base_uri": "https://localhost:8080/"
        },
        "id": "acDXIrrWUPDa",
        "outputId": "5a81891e-9666-49b4-eaf8-14c05c255f88"
      },
      "execution_count": null,
      "outputs": [
        {
          "output_type": "stream",
          "name": "stdout",
          "text": [
            "Hello, world!This is a new line being appended to the file.\n",
            "This is a new line being appended to the file.\n",
            "This is a new line being appended to the file.\n",
            "This is a new line being appended to the file.\n",
            "\n"
          ]
        }
      ]
    },
    {
      "cell_type": "markdown",
      "source": [
        "**14. Write a program that uses the logging module to log both informational and error messages?**"
      ],
      "metadata": {
        "id": "k4wjb9F_oM9m"
      }
    },
    {
      "cell_type": "code",
      "source": [
        "import logging\n",
        "\n",
        "# Configure logging to log messages to a file named 'app.log'\n",
        "# Set the logging level to DEBUG to capture all levels of log messages\n",
        "# Include the timestamp, log level, and message in the log format\n",
        "logging.basicConfig(\n",
        "    filename=\"app.log\",\n",
        "    level=logging.DEBUG,\n",
        "    format=\"%(asctime)s - %(levelname)s - %(message)s\"\n",
        ")\n",
        "\n",
        "# Log an informational message\n",
        "logging.info(\"This is an informational message.\")\n",
        "\n",
        "# Simulate an error and log it using try-except block\n",
        "try:\n",
        "    result = 10 / 0  # This will raise a ZeroDivisionError\n",
        "except ZeroDivisionError as e:\n",
        "    logging.error(\"Error occurred: %s\", e)\n",
        "\n",
        "# Notify the user that logging has been completed\n",
        "print(\"Program executed. Check 'app.log' for logged messages.\")"
      ],
      "metadata": {
        "colab": {
          "base_uri": "https://localhost:8080/"
        },
        "id": "SMrw87fctEIe",
        "outputId": "b46acca2-846d-4e0a-d9e3-9007abe16786"
      },
      "execution_count": 16,
      "outputs": [
        {
          "output_type": "stream",
          "name": "stderr",
          "text": [
            "ERROR:root:Error occurred: division by zero\n"
          ]
        },
        {
          "output_type": "stream",
          "name": "stdout",
          "text": [
            "Program executed. Check 'app.log' for logged messages.\n"
          ]
        }
      ]
    },
    {
      "cell_type": "markdown",
      "source": [
        "**15. Write a Python program that prints the content of a file and handles the case when the file is empty?**"
      ],
      "metadata": {
        "id": "UF8H6YgxoS9L"
      }
    },
    {
      "cell_type": "code",
      "source": [
        "with open(\"test.txt\",\"w\")as f:\n",
        "    f.write(\"\")\n",
        "\n",
        "try:\n",
        "    with open(\"test.txt\", \"r\") as file:\n",
        "        content = file.read()\n",
        "        if not content:\n",
        "            print(\"The file is empty.\")\n",
        "        else:\n",
        "            print(content)\n",
        "except FileNotFoundError:\n",
        "    print(\"The file does not exist.\")"
      ],
      "metadata": {
        "colab": {
          "base_uri": "https://localhost:8080/"
        },
        "id": "0crFJ9lgUkNh",
        "outputId": "b2cadc1f-b53c-4514-9da7-0de8742fbee8"
      },
      "execution_count": 19,
      "outputs": [
        {
          "output_type": "stream",
          "name": "stdout",
          "text": [
            "The file is empty.\n"
          ]
        }
      ]
    },
    {
      "cell_type": "markdown",
      "source": [
        "**16. Demonstrate how to use memory profiling to check the memory usage of a small program?**"
      ],
      "metadata": {
        "id": "GmUvZ1pzoYVr"
      }
    },
    {
      "cell_type": "code",
      "source": [
        "!pip install memory_profiler\n",
        "from memory_profiler import profile\n",
        "\n",
        "# Function that we will profile\n",
        "@profile\n",
        "def my_function():\n",
        "    a = [i for i in range(10)]  # Create a large list\n",
        "    b = [i * 2 for i in a]  # Create another list based on 'a'\n",
        "    return b\n",
        "\n",
        "# Call the function\n",
        "my_function()"
      ],
      "metadata": {
        "colab": {
          "base_uri": "https://localhost:8080/"
        },
        "id": "yKySBdsxVHFb",
        "outputId": "d42a075b-d4d6-4b63-acd1-65b6520c3c23"
      },
      "execution_count": 21,
      "outputs": [
        {
          "output_type": "stream",
          "name": "stdout",
          "text": [
            "Requirement already satisfied: memory_profiler in /usr/local/lib/python3.11/dist-packages (0.61.0)\n",
            "Requirement already satisfied: psutil in /usr/local/lib/python3.11/dist-packages (from memory_profiler) (5.9.5)\n",
            "ERROR: Could not find file <ipython-input-21-5734fe0e2e4d>\n",
            "NOTE: %mprun can only be used on functions defined in physical files, and not in the IPython environment.\n"
          ]
        },
        {
          "output_type": "execute_result",
          "data": {
            "text/plain": [
              "[0, 2, 4, 6, 8, 10, 12, 14, 16, 18]"
            ]
          },
          "metadata": {},
          "execution_count": 21
        }
      ]
    },
    {
      "cell_type": "markdown",
      "source": [
        "**17. Write a Python program to create and write a list of numbers to a file, one number per line?**"
      ],
      "metadata": {
        "id": "erJPdCwvoe7S"
      }
    },
    {
      "cell_type": "code",
      "source": [
        "# List of numbers to write to the file\n",
        "numbers = [1, 2, 3, 4, 5, 6, 7, 8, 9, 10]\n",
        "\n",
        "# Open the file in write mode ('w'). This will create the file if it doesn't exist.\n",
        "with open('numbers.txt', 'w') as file:\n",
        "    # Write each number to the file, one number per line\n",
        "    for number in numbers:\n",
        "        file.write(f\"{number}\\n\")\n",
        "\n",
        "print(\"Numbers have been written to 'numbers.txt'.\")"
      ],
      "metadata": {
        "colab": {
          "base_uri": "https://localhost:8080/"
        },
        "id": "BPYt-gt7VSEA",
        "outputId": "63a89e26-253e-48e2-c974-94f5410435d3"
      },
      "execution_count": null,
      "outputs": [
        {
          "output_type": "stream",
          "name": "stdout",
          "text": [
            "Numbers have been written to 'numbers.txt'.\n"
          ]
        }
      ]
    },
    {
      "cell_type": "markdown",
      "source": [
        "**18. How would you implement a basic logging setup that logs to a file with rotation after 1MB?**"
      ],
      "metadata": {
        "id": "1wVzpKipokYx"
      }
    },
    {
      "cell_type": "code",
      "source": [
        "import logging\n",
        "from logging.handlers import RotatingFileHandler\n",
        "\n",
        "# Set up a rotating file handler with a max size of 1MB and 3 backup files\n",
        "log_file = 'app.log'\n",
        "max_log_size = 1 * 1024 * 1024  # 1 MB\n",
        "backup_count = 3  # Number of backup log files to keep\n",
        "\n",
        "# Set up logging\n",
        "logger = logging.getLogger('my_logger')\n",
        "logger.setLevel(logging.DEBUG)  # Set logging level to DEBUG to capture all messages\n",
        "\n",
        "# Create a rotating file handler\n",
        "handler = RotatingFileHandler(log_file, maxBytes=max_log_size, backupCount=backup_count)\n",
        "\n",
        "# Set the log format (time, log level, and the actual message)\n",
        "formatter = logging.Formatter('%(asctime)s - %(levelname)s - %(message)s')\n",
        "handler.setFormatter(formatter)\n",
        "\n",
        "# Add the handler to the logger\n",
        "logger.addHandler(handler)\n",
        "\n",
        "# Sample log messages\n",
        "logger.debug(\"This is a debug message.\")\n",
        "logger.info(\"This is an info message.\")\n",
        "logger.warning(\"This is a warning message.\")\n",
        "logger.error(\"This is an error message.\")\n",
        "logger.critical(\"This is a critical message.\")"
      ],
      "metadata": {
        "colab": {
          "base_uri": "https://localhost:8080/"
        },
        "id": "vHbWGxYKVdqs",
        "outputId": "0340e1db-1c88-44d0-89bd-a1daf190764c"
      },
      "execution_count": 26,
      "outputs": [
        {
          "output_type": "stream",
          "name": "stderr",
          "text": [
            "DEBUG:my_logger:This is a debug message.\n",
            "INFO:my_logger:This is an info message.\n",
            "WARNING:my_logger:This is a warning message.\n",
            "ERROR:my_logger:This is an error message.\n",
            "CRITICAL:my_logger:This is a critical message.\n"
          ]
        }
      ]
    },
    {
      "cell_type": "markdown",
      "source": [
        "**19. Write a program that handles both IndexError and KeyError using a try-except block.**"
      ],
      "metadata": {
        "id": "4w-Hf6E-oxtU"
      }
    },
    {
      "cell_type": "code",
      "source": [
        "# Sample list and dictionary for demonstration\n",
        "my_list = [1, 2, 3]\n",
        "my_dict = {\"a\": 1, \"b\": 2}\n",
        "\n",
        "try:\n",
        "    # Trying to access an index that doesn't exist in the list\n",
        "    print(my_list[5])  # This will raise an IndexError\n",
        "\n",
        "    # Trying to access a key that doesn't exist in the dictionary\n",
        "    print(my_dict[\"c\"])  # This will raise a KeyError\n",
        "\n",
        "except IndexError as e:\n",
        "    print(f\"IndexError: {e}\")\n",
        "\n",
        "except KeyError as e:\n",
        "    print(f\"KeyError: {e}\")"
      ],
      "metadata": {
        "colab": {
          "base_uri": "https://localhost:8080/"
        },
        "id": "Xonm0bgRVjXP",
        "outputId": "f6c0fc6a-8b7c-4ca0-ed9d-73a955be050f"
      },
      "execution_count": null,
      "outputs": [
        {
          "output_type": "stream",
          "name": "stdout",
          "text": [
            "IndexError: list index out of range\n"
          ]
        }
      ]
    },
    {
      "cell_type": "markdown",
      "source": [
        "**20. How would you open a file and read its contents using a context manager in Python?**"
      ],
      "metadata": {
        "id": "NYTKt6R5o2xP"
      }
    },
    {
      "cell_type": "code",
      "source": [
        "# Using a context manager to open and read a file\n",
        "file_path = 'example.txt'  # Replace with the actual file path\n",
        "\n",
        "try:\n",
        "    # Open the file using 'with' to ensure it is automatically closed after reading\n",
        "    with open(file_path, 'r') as file:\n",
        "        # Read the entire content of the file\n",
        "        content = file.read()\n",
        "\n",
        "    # After the 'with' block, the file is automatically closed\n",
        "    print(\"File content:\")\n",
        "    print(content)\n",
        "\n",
        "except FileNotFoundError:\n",
        "    print(f\"Error: The file '{file_path}' was not found.\")\n",
        "except PermissionError:\n",
        "    print(f\"Error: You do not have permission to read the file '{file_path}'.\")\n",
        "except Exception as e:\n",
        "    print(f\"An unexpected error occurred: {e}\")"
      ],
      "metadata": {
        "colab": {
          "base_uri": "https://localhost:8080/"
        },
        "id": "UpgJ_nFZVuyM",
        "outputId": "1eb92d5c-8f11-4f60-8b9c-926b381b3ba0"
      },
      "execution_count": null,
      "outputs": [
        {
          "output_type": "stream",
          "name": "stdout",
          "text": [
            "Error: The file 'example.txt' was not found.\n"
          ]
        }
      ]
    },
    {
      "cell_type": "markdown",
      "source": [
        "**21. Write a Python program that reads a file and prints the number of occurrences of a specific word.**"
      ],
      "metadata": {
        "id": "04Ik525oo7t5"
      }
    },
    {
      "cell_type": "code",
      "source": [
        "def count_word_in_file(filename, word):\n",
        "    with open(filename, \"r\") as file:\n",
        "        content = file.read()\n",
        "        word_count = content.lower().split().count(word.lower())\n",
        "    return word_count\n",
        "\n",
        "filename = \"example.txt\"\n",
        "word_to_count = \"python\"\n",
        "\n",
        "count = count_word_in_file(filename, word_to_count)\n",
        "print(f\"The word '{word_to_count}' appears {count} times in the file.\")"
      ],
      "metadata": {
        "id": "WOErDeq0WPao",
        "colab": {
          "base_uri": "https://localhost:8080/"
        },
        "outputId": "43df9f1e-2034-46ff-8bd7-45c7b6e16a42"
      },
      "execution_count": 30,
      "outputs": [
        {
          "output_type": "stream",
          "name": "stdout",
          "text": [
            "The word 'python' appears 0 times in the file.\n"
          ]
        }
      ]
    },
    {
      "cell_type": "markdown",
      "source": [
        "**22. How can you check if a file is empty before attempting to read its contents?**"
      ],
      "metadata": {
        "id": "mYWAdpiwo_rB"
      }
    },
    {
      "cell_type": "code",
      "source": [
        "import os\n",
        "\n",
        "filename = \"example.txt\"\n",
        "\n",
        "if os.path.getsize(filename) == 0:\n",
        "    print(\"The file is empty.\")\n",
        "else:\n",
        "    with open(filename, \"r\") as file:\n",
        "        content = file.read()\n",
        "        print(content)"
      ],
      "metadata": {
        "colab": {
          "base_uri": "https://localhost:8080/"
        },
        "id": "5oPsdRCXWd2k",
        "outputId": "29fa85f2-0401-4992-f31a-94c02237bba9"
      },
      "execution_count": 31,
      "outputs": [
        {
          "output_type": "stream",
          "name": "stdout",
          "text": [
            "This is an example content for the file.\n"
          ]
        }
      ]
    },
    {
      "cell_type": "markdown",
      "source": [
        "**23. Write a Python program that writes to a log file when an error occurs during file handling.**"
      ],
      "metadata": {
        "id": "zECo0eOcpGw4"
      }
    },
    {
      "cell_type": "code",
      "source": [
        "import logging\n",
        "\n",
        "# Set up logging configuration to log errors to a file\n",
        "logging.basicConfig(filename=\"file_error_log.txt\", level=logging.ERROR,\n",
        "                    format='%(asctime)s - %(levelname)s - %(message)s')\n",
        "\n",
        "try:\n",
        "    # Trying to open a file that doesn't exist\n",
        "    with open(\"nonexistent_file.txt\", \"r\") as file:\n",
        "        content = file.read()\n",
        "except Exception as e:\n",
        "    logging.error(\"An error occurred while handling the file: %s\", e)"
      ],
      "metadata": {
        "colab": {
          "base_uri": "https://localhost:8080/"
        },
        "id": "nawRBp5xW5zg",
        "outputId": "7ffaa166-4cee-4730-d100-d5e3679e488b"
      },
      "execution_count": 33,
      "outputs": [
        {
          "output_type": "stream",
          "name": "stderr",
          "text": [
            "ERROR:root:An error occurred while handling the file: [Errno 2] No such file or directory: 'nonexistent_file.txt'\n"
          ]
        }
      ]
    }
  ]
}